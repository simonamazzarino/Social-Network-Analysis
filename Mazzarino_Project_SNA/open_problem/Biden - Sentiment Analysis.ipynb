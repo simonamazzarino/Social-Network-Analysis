{
 "cells": [
  {
   "cell_type": "markdown",
   "metadata": {},
   "source": [
    "# Sentiment Analysis"
   ]
  },
  {
   "cell_type": "markdown",
   "metadata": {},
   "source": [
    "## Import libraries"
   ]
  },
  {
   "cell_type": "code",
   "execution_count": 1,
   "metadata": {},
   "outputs": [
    {
     "name": "stdout",
     "output_type": "stream",
     "text": [
      "Requirement already satisfied: vaderSentiment in /Users/simonamazzarino/opt/anaconda3/lib/python3.8/site-packages (3.3.2)\r\n",
      "Requirement already satisfied: requests in /Users/simonamazzarino/opt/anaconda3/lib/python3.8/site-packages (from vaderSentiment) (2.28.0)\r\n",
      "Requirement already satisfied: certifi>=2017.4.17 in /Users/simonamazzarino/opt/anaconda3/lib/python3.8/site-packages (from requests->vaderSentiment) (2020.6.20)\r\n",
      "Requirement already satisfied: idna<4,>=2.5 in /Users/simonamazzarino/opt/anaconda3/lib/python3.8/site-packages (from requests->vaderSentiment) (2.10)\r\n",
      "Requirement already satisfied: charset-normalizer~=2.0.0 in /Users/simonamazzarino/opt/anaconda3/lib/python3.8/site-packages (from requests->vaderSentiment) (2.0.12)\r\n",
      "Requirement already satisfied: urllib3<1.27,>=1.21.1 in /Users/simonamazzarino/opt/anaconda3/lib/python3.8/site-packages (from requests->vaderSentiment) (1.26.9)\r\n"
     ]
    }
   ],
   "source": [
    "!pip install vaderSentiment"
   ]
  },
  {
   "cell_type": "code",
   "execution_count": 2,
   "metadata": {},
   "outputs": [],
   "source": [
    "import pandas as pd\n",
    "import matplotlib.pyplot as plt\n",
    "import seaborn as sns\n",
    "from vaderSentiment.vaderSentiment import SentimentIntensityAnalyzer\n",
    "import numpy as np\n",
    "%matplotlib inline\n"
   ]
  },
  {
   "cell_type": "code",
   "execution_count": 3,
   "metadata": {},
   "outputs": [],
   "source": [
    "import pandas as pd\n",
    "import re\n",
    "import gensim\n",
    "from nltk.stem import WordNetLemmatizer\n",
    "\n",
    "punctuation = '!\"$%&\\'()*+,-./:;<=>?[\\\\]^_`{|}~•@'         # define a string of punctuation symbols\n",
    "\n",
    "# Functions to clean tweets\n",
    "def remove_links(tweet):\n",
    "    \"\"\"Takes a string and removes web links from it\"\"\"\n",
    "    tweet = re.sub(r'http\\S+', '', tweet)   # remove http links\n",
    "    tweet = re.sub(r'bit.ly/\\S+', '', tweet)  # remove bitly links\n",
    "    tweet = tweet.strip('[link]')   # remove [links]\n",
    "    tweet = re.sub(r'pic.twitter\\S+','', tweet)\n",
    "    return tweet\n",
    "\n",
    "def remove_users(tweet):\n",
    "    \"\"\"Takes a string and removes retweet and @user information\"\"\"\n",
    "   # tweet = re.sub('(RT\\s@[A-Za-z]+[A-Za-z0-9-_]+)', '', tweet)  # remove re-tweet\n",
    "    tweet = re.sub('(@)', '', tweet)  # remove tweeted at\n",
    "    return tweet\n",
    "\n",
    "def remove_hashtags(tweet):\n",
    "    \"\"\"Takes a string and removes any hash tags\"\"\"\n",
    "    tweet = re.sub('(#)', ' ', tweet)  # remove hash tags\n",
    "    return tweet\n",
    "\n",
    "def remove_av(tweet):\n",
    "    \"\"\"Takes a string and removes AUDIO/VIDEO tags or labels\"\"\"\n",
    "    tweet = re.sub('VIDEO:', '', tweet)  # remove 'VIDEO:' from start of tweet\n",
    "    tweet = re.sub('AUDIO:', '', tweet)  # remove 'AUDIO:' from start of tweet\n",
    "    return tweet\n",
    "\n",
    "def tokenize(tweet):\n",
    "    \"\"\"Returns tokenized representation of words in lemma form excluding stopwords\"\"\"\n",
    "    result = []\n",
    "    for token in gensim.utils.simple_preprocess(tweet):\n",
    "        if token not in gensim.parsing.preprocessing.STOPWORDS \\\n",
    "                and len(token) > 2:  # drops words with less than 3 characters\n",
    "            result.append(lemmatize(token))\n",
    "    return result\n",
    "\n",
    "def lemmatize(token):\n",
    "    \"\"\"Returns lemmatization of a token\"\"\"\n",
    "    return WordNetLemmatizer().lemmatize(token, pos='v')\n",
    "\n",
    "def preprocess_tweet(tweet):\n",
    "    \"\"\"Main master function to clean tweets, stripping noisy characters, and tokenizing use lemmatization\"\"\"\n",
    "    #tweet = remove_users(tweet)\n",
    "    tweet = remove_links(tweet)\n",
    "    #tweet = remove_hashtags(tweet)\n",
    "    tweet = remove_av(tweet)\n",
    "    tweet = tweet.lower()  # lower case\n",
    "    tweet = re.sub('[' + punctuation + ']+', ' ', tweet)  # strip punctuation\n",
    "    tweet = re.sub('\\s+', ' ', tweet)  # remove double spacing\n",
    "  # tweet = re.sub('([0-9]+)', '', tweet)  # remove numbers\n",
    "    tweet_token_list = tokenize(tweet)  # apply lemmatization and tokenization\n",
    "    tweet = ' '.join(tweet_token_list)\n",
    "    tweet = re.sub(' amp ', '&', tweet)\n",
    "    return tweet\n",
    "\n",
    "def basic_clean(tweet):\n",
    "    \"\"\"Main master function to clean tweets only without tokenization or removal of stopwords\"\"\"\n",
    "    # tweet = remove_users(tweet)\n",
    "    # tweet = remove_hashtags(tweet)\n",
    "    tweet = remove_av(tweet)\n",
    "    tweet = tweet.lower()  # lower case\n",
    "    tweet = re.sub('[' + punctuation + ']+', ' ', tweet)  # strip punctuation\n",
    "    tweet = re.sub('\\s+', ' ', tweet)  # remove double spacing\n",
    "    tweet = re.sub('([0-9]+)', '', tweet)  # remove numbers\n",
    "    tweet = re.sub(' & ', '', tweet)\n",
    "    return tweet\n",
    "\n",
    "def tokenize_tweets(df):\n",
    "    df['tokens'] = df.tweet.apply(preprocess_tweet)\n",
    "    num_tweets = len(df)\n",
    "    print('Complete. Number of Tweets that have been cleaned and tokenized : {}'.format(num_tweets))\n",
    "    return df"
   ]
  },
  {
   "cell_type": "markdown",
   "metadata": {},
   "source": [
    "## Read the NLP dataset tagged with communities"
   ]
  },
  {
   "cell_type": "code",
   "execution_count": 79,
   "metadata": {},
   "outputs": [
    {
     "name": "stderr",
     "output_type": "stream",
     "text": [
      "/Users/simonamazzarino/opt/anaconda3/lib/python3.8/site-packages/IPython/core/interactiveshell.py:3418: DtypeWarning: Columns (8) have mixed types.Specify dtype option on import or set low_memory=False.\n",
      "  exec(code_obj, self.user_global_ns, self.user_ns)\n",
      "/Users/simonamazzarino/opt/anaconda3/lib/python3.8/site-packages/IPython/core/interactiveshell.py:3418: DtypeWarning: Columns (0,1,8,26) have mixed types.Specify dtype option on import or set low_memory=False.\n",
      "  exec(code_obj, self.user_global_ns, self.user_ns)\n"
     ]
    }
   ],
   "source": [
    "df1 = pd.read_csv(\"../network_analysis/df_nlp_com1.csv\")\n",
    "df2 = pd.read_csv(\"../network_analysis/df_nlp_com2.csv\")\n",
    "df3 = pd.read_csv(\"../network_analysis/df_nlp_com3.csv\")\n",
    "df4 = pd.read_csv(\"../network_analysis/df_nlp_com4.csv\")\n",
    "df5 = pd.read_csv(\"../network_analysis/df_nlp_com5.csv\")"
   ]
  },
  {
   "cell_type": "code",
   "execution_count": 5,
   "metadata": {},
   "outputs": [
    {
     "name": "stdout",
     "output_type": "stream",
     "text": [
      "<class 'pandas.core.frame.DataFrame'>\n",
      "RangeIndex: 39035 entries, 0 to 39034\n",
      "Data columns (total 37 columns):\n",
      " #   Column                        Non-Null Count  Dtype  \n",
      "---  ------                        --------------  -----  \n",
      " 0   id                            39035 non-null  int64  \n",
      " 1   conversation_id               39035 non-null  int64  \n",
      " 2   created_at                    39035 non-null  object \n",
      " 3   date                          39035 non-null  object \n",
      " 4   time                          39035 non-null  object \n",
      " 5   timezone                      39035 non-null  int64  \n",
      " 6   user_id                       39035 non-null  int64  \n",
      " 7   name                          39035 non-null  object \n",
      " 8   place                         3 non-null      object \n",
      " 9   tweet                         39035 non-null  object \n",
      " 10  language                      39035 non-null  object \n",
      " 11  mentions                      39035 non-null  object \n",
      " 12  urls                          39035 non-null  object \n",
      " 13  photos                        39035 non-null  object \n",
      " 14  replies_count                 39035 non-null  int64  \n",
      " 15  retweets_count                39035 non-null  int64  \n",
      " 16  likes_count                   39035 non-null  int64  \n",
      " 17  hashtags                      39035 non-null  object \n",
      " 18  cashtags                      39035 non-null  object \n",
      " 19  link                          39035 non-null  object \n",
      " 20  retweet                       39035 non-null  bool   \n",
      " 21  quote_url                     8736 non-null   object \n",
      " 22  video                         39035 non-null  int64  \n",
      " 23  thumbnail                     6658 non-null   object \n",
      " 24  near                          0 non-null      float64\n",
      " 25  geo                           0 non-null      float64\n",
      " 26  source                        0 non-null      float64\n",
      " 27  user_rt_id                    0 non-null      float64\n",
      " 28  user_rt                       0 non-null      float64\n",
      " 29  retweet_id                    0 non-null      float64\n",
      " 30  reply_to                      39035 non-null  object \n",
      " 31  retweet_date                  0 non-null      float64\n",
      " 32  translate                     0 non-null      float64\n",
      " 33  trans_src                     0 non-null      float64\n",
      " 34  trans_dest                    0 non-null      float64\n",
      " 35  community                     39035 non-null  object \n",
      " 36  original_community_extension  39035 non-null  int64  \n",
      "dtypes: bool(1), float64(10), int64(9), object(17)\n",
      "memory usage: 10.8+ MB\n"
     ]
    }
   ],
   "source": [
    "df1.info()"
   ]
  },
  {
   "cell_type": "code",
   "execution_count": 6,
   "metadata": {},
   "outputs": [
    {
     "name": "stdout",
     "output_type": "stream",
     "text": [
      "community_46      1854\n",
      "community_0       1637\n",
      "community_83       997\n",
      "community_1616     850\n",
      "community_1        827\n",
      "Name: community, dtype: int64\n",
      "\n",
      "--------------\n",
      "\n",
      "community_1      1210\n",
      "community_0      1198\n",
      "community_878     764\n",
      "community_5       490\n",
      "community_29      469\n",
      "Name: community, dtype: int64\n",
      "\n",
      "--------------\n",
      "\n",
      "community_1013    408\n",
      "community_850     391\n",
      "community_1001    276\n",
      "community_171     253\n",
      "community_508     218\n",
      "Name: community, dtype: int64\n",
      "\n",
      "--------------\n",
      "\n",
      "community_0      444\n",
      "community_39     362\n",
      "community_78     352\n",
      "community_571    262\n",
      "community_156    190\n",
      "Name: community, dtype: int64\n",
      "\n",
      "--------------\n",
      "\n",
      "community_451    489\n",
      "community_294    379\n",
      "community_103    242\n",
      "community_1      241\n",
      "community_5      238\n",
      "Name: community, dtype: int64\n"
     ]
    }
   ],
   "source": [
    "print(df1.community.value_counts()[:5])\n",
    "print('')\n",
    "print('--------------')\n",
    "print('')\n",
    "print(df2.community.value_counts()[:5])\n",
    "print('')\n",
    "print('--------------')\n",
    "print('')\n",
    "print(df3.community.value_counts()[:5])\n",
    "print('')\n",
    "print('--------------')\n",
    "print('')\n",
    "print(df4.community.value_counts()[:5])\n",
    "print('')\n",
    "print('--------------')\n",
    "print('')\n",
    "print(df5.community.value_counts()[:5])"
   ]
  },
  {
   "cell_type": "code",
   "execution_count": 7,
   "metadata": {},
   "outputs": [],
   "source": [
    "df1 = df1.drop_duplicates()\n",
    "df2 = df2.drop_duplicates()\n",
    "df3 = df3.drop_duplicates()\n",
    "df4 = df4.drop_duplicates()\n",
    "df5 = df5.drop_duplicates()"
   ]
  },
  {
   "cell_type": "code",
   "execution_count": 8,
   "metadata": {},
   "outputs": [],
   "source": [
    "df1[\"tweet\"] = df1.tweet.astype(\"str\")\n",
    "df2[\"tweet\"] = df2.tweet.astype(\"str\")\n",
    "df3[\"tweet\"] = df3.tweet.astype(\"str\")\n",
    "df4[\"tweet\"] = df4.tweet.astype(\"str\")\n",
    "df5[\"tweet\"] = df5.tweet.astype(\"str\")"
   ]
  },
  {
   "cell_type": "code",
   "execution_count": 9,
   "metadata": {},
   "outputs": [
    {
     "name": "stderr",
     "output_type": "stream",
     "text": [
      "[nltk_data] Downloading package wordnet to\n",
      "[nltk_data]     /Users/simonamazzarino/nltk_data...\n",
      "[nltk_data]   Package wordnet is already up-to-date!\n",
      "[nltk_data] Downloading package omw-1.4 to\n",
      "[nltk_data]     /Users/simonamazzarino/nltk_data...\n",
      "[nltk_data]   Package omw-1.4 is already up-to-date!\n"
     ]
    },
    {
     "data": {
      "text/plain": [
       "True"
      ]
     },
     "execution_count": 9,
     "metadata": {},
     "output_type": "execute_result"
    }
   ],
   "source": [
    "import nltk\n",
    "nltk.download('wordnet')\n",
    "nltk.download('omw-1.4')"
   ]
  },
  {
   "cell_type": "code",
   "execution_count": 10,
   "metadata": {},
   "outputs": [],
   "source": [
    "df1[\"preprocessed_tweet\"] = df1[\"tweet\"].apply(preprocess_tweet)\n",
    "df2[\"preprocessed_tweet\"] = df2[\"tweet\"].apply(preprocess_tweet)\n",
    "df3[\"preprocessed_tweet\"] = df3[\"tweet\"].apply(preprocess_tweet)\n",
    "df4[\"preprocessed_tweet\"] = df4[\"tweet\"].apply(preprocess_tweet)\n",
    "df5[\"preprocessed_tweet\"] = df5[\"tweet\"].apply(preprocess_tweet)"
   ]
  },
  {
   "cell_type": "markdown",
   "metadata": {},
   "source": [
    "## Sentiment Analysis"
   ]
  },
  {
   "cell_type": "markdown",
   "metadata": {},
   "source": [
    "#### Primo Semestre (gen-giu 2020)"
   ]
  },
  {
   "cell_type": "code",
   "execution_count": 11,
   "metadata": {},
   "outputs": [],
   "source": [
    "analyser = SentimentIntensityAnalyzer()\n"
   ]
  },
  {
   "cell_type": "code",
   "execution_count": 12,
   "metadata": {
    "tags": []
   },
   "outputs": [],
   "source": [
    "pol = lambda x: analyser.polarity_scores(x)"
   ]
  },
  {
   "cell_type": "code",
   "execution_count": 13,
   "metadata": {},
   "outputs": [],
   "source": [
    "df1['compound'] = [analyser.polarity_scores(x)['compound'] for x in df1['preprocessed_tweet']]\n",
    "df1['neg'] = [analyser.polarity_scores(x)['neg'] for x in df1['preprocessed_tweet']]\n",
    "df1['neu'] = [analyser.polarity_scores(x)['neu'] for x in df1['preprocessed_tweet']]\n",
    "df1['pos'] = [analyser.polarity_scores(x)['pos'] for x in df1['preprocessed_tweet']]"
   ]
  },
  {
   "cell_type": "code",
   "execution_count": 14,
   "metadata": {},
   "outputs": [],
   "source": [
    "df1['sentiment_type']=''\n",
    "df1.loc[df1.compound>=0.05,'sentiment_type']='POSITIVE'\n",
    "df1.loc[(df1.compound > -0.05) & (df1.compound < 0.05),'sentiment_type']='NEUTRAL'\n",
    "df1.loc[df1.compound<= - 0.05,'sentiment_type']='NEGATIVE'"
   ]
  },
  {
   "cell_type": "code",
   "execution_count": 15,
   "metadata": {},
   "outputs": [
    {
     "data": {
      "text/html": [
       "<div>\n",
       "<style scoped>\n",
       "    .dataframe tbody tr th:only-of-type {\n",
       "        vertical-align: middle;\n",
       "    }\n",
       "\n",
       "    .dataframe tbody tr th {\n",
       "        vertical-align: top;\n",
       "    }\n",
       "\n",
       "    .dataframe thead th {\n",
       "        text-align: right;\n",
       "    }\n",
       "</style>\n",
       "<table border=\"1\" class=\"dataframe\">\n",
       "  <thead>\n",
       "    <tr style=\"text-align: right;\">\n",
       "      <th></th>\n",
       "      <th>id</th>\n",
       "      <th>conversation_id</th>\n",
       "      <th>created_at</th>\n",
       "      <th>date</th>\n",
       "      <th>time</th>\n",
       "      <th>timezone</th>\n",
       "      <th>user_id</th>\n",
       "      <th>name</th>\n",
       "      <th>place</th>\n",
       "      <th>tweet</th>\n",
       "      <th>...</th>\n",
       "      <th>trans_src</th>\n",
       "      <th>trans_dest</th>\n",
       "      <th>community</th>\n",
       "      <th>original_community_extension</th>\n",
       "      <th>preprocessed_tweet</th>\n",
       "      <th>compound</th>\n",
       "      <th>neg</th>\n",
       "      <th>neu</th>\n",
       "      <th>pos</th>\n",
       "      <th>sentiment_type</th>\n",
       "    </tr>\n",
       "  </thead>\n",
       "  <tbody>\n",
       "    <tr>\n",
       "      <th>0</th>\n",
       "      <td>1218684471211245568</td>\n",
       "      <td>1218684471211245568</td>\n",
       "      <td>2020-01-18 23:59:54+00:00</td>\n",
       "      <td>2020-01-18</td>\n",
       "      <td>23:59:54</td>\n",
       "      <td>100</td>\n",
       "      <td>90497917</td>\n",
       "      <td>David Schor (Biden=#BlueTrump) 💚</td>\n",
       "      <td>NaN</td>\n",
       "      <td>#JoeBiden accusing the Sanders campaign of dis...</td>\n",
       "      <td>...</td>\n",
       "      <td>NaN</td>\n",
       "      <td>NaN</td>\n",
       "      <td>community_0</td>\n",
       "      <td>348</td>\n",
       "      <td>joebiden accuse sanders campaign distort recor...</td>\n",
       "      <td>-0.5106</td>\n",
       "      <td>0.400</td>\n",
       "      <td>0.358</td>\n",
       "      <td>0.242</td>\n",
       "      <td>NEGATIVE</td>\n",
       "    </tr>\n",
       "    <tr>\n",
       "      <th>1</th>\n",
       "      <td>1242962294302105600</td>\n",
       "      <td>1242962294302105600</td>\n",
       "      <td>2020-03-25 23:51:18+00:00</td>\n",
       "      <td>2020-03-25</td>\n",
       "      <td>23:51:18</td>\n",
       "      <td>100</td>\n",
       "      <td>90497917</td>\n",
       "      <td>David Schor (Biden=#BlueTrump) 💚</td>\n",
       "      <td>NaN</td>\n",
       "      <td>#Bernie is the #AntiTrump #Biden is the #BlueT...</td>\n",
       "      <td>...</td>\n",
       "      <td>NaN</td>\n",
       "      <td>NaN</td>\n",
       "      <td>community_0</td>\n",
       "      <td>348</td>\n",
       "      <td>bernie antitrump biden bluetrump question</td>\n",
       "      <td>0.0000</td>\n",
       "      <td>0.000</td>\n",
       "      <td>1.000</td>\n",
       "      <td>0.000</td>\n",
       "      <td>NEUTRAL</td>\n",
       "    </tr>\n",
       "    <tr>\n",
       "      <th>2</th>\n",
       "      <td>1217165029440552961</td>\n",
       "      <td>1217156937193807872</td>\n",
       "      <td>2020-01-14 19:22:11+00:00</td>\n",
       "      <td>2020-01-14</td>\n",
       "      <td>19:22:11</td>\n",
       "      <td>100</td>\n",
       "      <td>90497917</td>\n",
       "      <td>David Schor (Biden=#BlueTrump) 💚</td>\n",
       "      <td>NaN</td>\n",
       "      <td>@Rosario10i @BethLynch2020 No need to attack h...</td>\n",
       "      <td>...</td>\n",
       "      <td>NaN</td>\n",
       "      <td>NaN</td>\n",
       "      <td>community_0</td>\n",
       "      <td>348</td>\n",
       "      <td>rosario bethlynch need attack plenty damage as...</td>\n",
       "      <td>-0.7430</td>\n",
       "      <td>0.474</td>\n",
       "      <td>0.526</td>\n",
       "      <td>0.000</td>\n",
       "      <td>NEGATIVE</td>\n",
       "    </tr>\n",
       "    <tr>\n",
       "      <th>3</th>\n",
       "      <td>1249384363738796032</td>\n",
       "      <td>1249005745582018560</td>\n",
       "      <td>2020-04-12 18:10:19+01:00</td>\n",
       "      <td>2020-04-12</td>\n",
       "      <td>18:10:19</td>\n",
       "      <td>100</td>\n",
       "      <td>90497917</td>\n",
       "      <td>David Schor (Biden=#BlueTrump) 💚</td>\n",
       "      <td>NaN</td>\n",
       "      <td>@AndyOstroy @JoeBiden Hey #Biden supporters: t...</td>\n",
       "      <td>...</td>\n",
       "      <td>NaN</td>\n",
       "      <td>NaN</td>\n",
       "      <td>community_0</td>\n",
       "      <td>348</td>\n",
       "      <td>andyostroy joebiden hey biden supporters joebi...</td>\n",
       "      <td>0.4404</td>\n",
       "      <td>0.000</td>\n",
       "      <td>0.734</td>\n",
       "      <td>0.266</td>\n",
       "      <td>POSITIVE</td>\n",
       "    </tr>\n",
       "    <tr>\n",
       "      <th>4</th>\n",
       "      <td>1218684453494632449</td>\n",
       "      <td>1218663554250727424</td>\n",
       "      <td>2020-01-18 23:59:50+00:00</td>\n",
       "      <td>2020-01-18</td>\n",
       "      <td>23:59:50</td>\n",
       "      <td>100</td>\n",
       "      <td>175711368</td>\n",
       "      <td>Biden is the More Effective Evil</td>\n",
       "      <td>NaN</td>\n",
       "      <td>@number1fan_2 @BMarchetich There are 2 other v...</td>\n",
       "      <td>...</td>\n",
       "      <td>NaN</td>\n",
       "      <td>NaN</td>\n",
       "      <td>community_55</td>\n",
       "      <td>17</td>\n",
       "      <td>number fan bmarchetich videos joebiden talk cu...</td>\n",
       "      <td>0.1280</td>\n",
       "      <td>0.101</td>\n",
       "      <td>0.725</td>\n",
       "      <td>0.174</td>\n",
       "      <td>POSITIVE</td>\n",
       "    </tr>\n",
       "    <tr>\n",
       "      <th>...</th>\n",
       "      <td>...</td>\n",
       "      <td>...</td>\n",
       "      <td>...</td>\n",
       "      <td>...</td>\n",
       "      <td>...</td>\n",
       "      <td>...</td>\n",
       "      <td>...</td>\n",
       "      <td>...</td>\n",
       "      <td>...</td>\n",
       "      <td>...</td>\n",
       "      <td>...</td>\n",
       "      <td>...</td>\n",
       "      <td>...</td>\n",
       "      <td>...</td>\n",
       "      <td>...</td>\n",
       "      <td>...</td>\n",
       "      <td>...</td>\n",
       "      <td>...</td>\n",
       "      <td>...</td>\n",
       "      <td>...</td>\n",
       "      <td>...</td>\n",
       "    </tr>\n",
       "    <tr>\n",
       "      <th>39030</th>\n",
       "      <td>1264271769285857282</td>\n",
       "      <td>1263964462983380992</td>\n",
       "      <td>2020-05-23 20:07:33+01:00</td>\n",
       "      <td>2020-05-23</td>\n",
       "      <td>20:07:33</td>\n",
       "      <td>100</td>\n",
       "      <td>967032222829162498</td>\n",
       "      <td>roleezj</td>\n",
       "      <td>NaN</td>\n",
       "      <td>@realDonaldTrump @deanbaquet Columbia Univ edu...</td>\n",
       "      <td>...</td>\n",
       "      <td>NaN</td>\n",
       "      <td>NaN</td>\n",
       "      <td>community_1393</td>\n",
       "      <td>2</td>\n",
       "      <td>realdonaldtrump deanbaquet columbia univ educa...</td>\n",
       "      <td>0.0516</td>\n",
       "      <td>0.232</td>\n",
       "      <td>0.559</td>\n",
       "      <td>0.209</td>\n",
       "      <td>POSITIVE</td>\n",
       "    </tr>\n",
       "    <tr>\n",
       "      <th>39031</th>\n",
       "      <td>1264270613486526470</td>\n",
       "      <td>1264253104737980416</td>\n",
       "      <td>2020-05-23 20:02:57+01:00</td>\n",
       "      <td>2020-05-23</td>\n",
       "      <td>20:02:57</td>\n",
       "      <td>100</td>\n",
       "      <td>799343836614885376</td>\n",
       "      <td>Frankie Garcia</td>\n",
       "      <td>NaN</td>\n",
       "      <td>@TrueBlue100K @twostarsartwork Please.. @JoeBi...</td>\n",
       "      <td>...</td>\n",
       "      <td>NaN</td>\n",
       "      <td>NaN</td>\n",
       "      <td>community_1847</td>\n",
       "      <td>2</td>\n",
       "      <td>trueblue twostarsartwork joebiden biden</td>\n",
       "      <td>0.0000</td>\n",
       "      <td>0.000</td>\n",
       "      <td>1.000</td>\n",
       "      <td>0.000</td>\n",
       "      <td>NEUTRAL</td>\n",
       "    </tr>\n",
       "    <tr>\n",
       "      <th>39032</th>\n",
       "      <td>1264267943069679616</td>\n",
       "      <td>1264233824172548096</td>\n",
       "      <td>2020-05-23 19:52:21+01:00</td>\n",
       "      <td>2020-05-23</td>\n",
       "      <td>19:52:21</td>\n",
       "      <td>100</td>\n",
       "      <td>68697271</td>\n",
       "      <td>Itay Komorovski 🇮🇱</td>\n",
       "      <td>NaN</td>\n",
       "      <td>@Silvergt @AriFleischer Now after you #Tweet #...</td>\n",
       "      <td>...</td>\n",
       "      <td>NaN</td>\n",
       "      <td>NaN</td>\n",
       "      <td>community_1584</td>\n",
       "      <td>2</td>\n",
       "      <td>silvergt arifleischer tweet biden longer racis...</td>\n",
       "      <td>0.3182</td>\n",
       "      <td>0.116</td>\n",
       "      <td>0.711</td>\n",
       "      <td>0.173</td>\n",
       "      <td>POSITIVE</td>\n",
       "    </tr>\n",
       "    <tr>\n",
       "      <th>39033</th>\n",
       "      <td>1264266065523154946</td>\n",
       "      <td>1263997603693203456</td>\n",
       "      <td>2020-05-23 19:44:53+01:00</td>\n",
       "      <td>2020-05-23</td>\n",
       "      <td>19:44:53</td>\n",
       "      <td>100</td>\n",
       "      <td>901935932122824705</td>\n",
       "      <td>1-65 trump'sCourtRecord</td>\n",
       "      <td>NaN</td>\n",
       "      <td>@BrunoAmato_1 Biden should be more deliberate ...</td>\n",
       "      <td>...</td>\n",
       "      <td>NaN</td>\n",
       "      <td>NaN</td>\n",
       "      <td>community_1619</td>\n",
       "      <td>2</td>\n",
       "      <td>brunoamato biden deliberate speak longer debat...</td>\n",
       "      <td>0.0000</td>\n",
       "      <td>0.000</td>\n",
       "      <td>1.000</td>\n",
       "      <td>0.000</td>\n",
       "      <td>NEUTRAL</td>\n",
       "    </tr>\n",
       "    <tr>\n",
       "      <th>39034</th>\n",
       "      <td>1264265259361153025</td>\n",
       "      <td>1264208610671943680</td>\n",
       "      <td>2020-05-23 19:41:41+01:00</td>\n",
       "      <td>2020-05-23</td>\n",
       "      <td>19:41:41</td>\n",
       "      <td>100</td>\n",
       "      <td>1257055044341555201</td>\n",
       "      <td>legs412</td>\n",
       "      <td>NaN</td>\n",
       "      <td>@CJ4ShortPlz @PamEllaCasual @jeffsessions @jda...</td>\n",
       "      <td>...</td>\n",
       "      <td>NaN</td>\n",
       "      <td>NaN</td>\n",
       "      <td>community_1247</td>\n",
       "      <td>2</td>\n",
       "      <td>shortplz pamellacasual jeffsessions jdawsey re...</td>\n",
       "      <td>-0.4019</td>\n",
       "      <td>0.197</td>\n",
       "      <td>0.803</td>\n",
       "      <td>0.000</td>\n",
       "      <td>NEGATIVE</td>\n",
       "    </tr>\n",
       "  </tbody>\n",
       "</table>\n",
       "<p>39035 rows × 43 columns</p>\n",
       "</div>"
      ],
      "text/plain": [
       "                        id      conversation_id                 created_at  \\\n",
       "0      1218684471211245568  1218684471211245568  2020-01-18 23:59:54+00:00   \n",
       "1      1242962294302105600  1242962294302105600  2020-03-25 23:51:18+00:00   \n",
       "2      1217165029440552961  1217156937193807872  2020-01-14 19:22:11+00:00   \n",
       "3      1249384363738796032  1249005745582018560  2020-04-12 18:10:19+01:00   \n",
       "4      1218684453494632449  1218663554250727424  2020-01-18 23:59:50+00:00   \n",
       "...                    ...                  ...                        ...   \n",
       "39030  1264271769285857282  1263964462983380992  2020-05-23 20:07:33+01:00   \n",
       "39031  1264270613486526470  1264253104737980416  2020-05-23 20:02:57+01:00   \n",
       "39032  1264267943069679616  1264233824172548096  2020-05-23 19:52:21+01:00   \n",
       "39033  1264266065523154946  1263997603693203456  2020-05-23 19:44:53+01:00   \n",
       "39034  1264265259361153025  1264208610671943680  2020-05-23 19:41:41+01:00   \n",
       "\n",
       "             date      time  timezone              user_id  \\\n",
       "0      2020-01-18  23:59:54       100             90497917   \n",
       "1      2020-03-25  23:51:18       100             90497917   \n",
       "2      2020-01-14  19:22:11       100             90497917   \n",
       "3      2020-04-12  18:10:19       100             90497917   \n",
       "4      2020-01-18  23:59:50       100            175711368   \n",
       "...           ...       ...       ...                  ...   \n",
       "39030  2020-05-23  20:07:33       100   967032222829162498   \n",
       "39031  2020-05-23  20:02:57       100   799343836614885376   \n",
       "39032  2020-05-23  19:52:21       100             68697271   \n",
       "39033  2020-05-23  19:44:53       100   901935932122824705   \n",
       "39034  2020-05-23  19:41:41       100  1257055044341555201   \n",
       "\n",
       "                                   name place  \\\n",
       "0      David Schor (Biden=#BlueTrump) 💚   NaN   \n",
       "1      David Schor (Biden=#BlueTrump) 💚   NaN   \n",
       "2      David Schor (Biden=#BlueTrump) 💚   NaN   \n",
       "3      David Schor (Biden=#BlueTrump) 💚   NaN   \n",
       "4      Biden is the More Effective Evil   NaN   \n",
       "...                                 ...   ...   \n",
       "39030                           roleezj   NaN   \n",
       "39031                    Frankie Garcia   NaN   \n",
       "39032                Itay Komorovski 🇮🇱   NaN   \n",
       "39033           1-65 trump'sCourtRecord   NaN   \n",
       "39034                           legs412   NaN   \n",
       "\n",
       "                                                   tweet  ... trans_src  \\\n",
       "0      #JoeBiden accusing the Sanders campaign of dis...  ...       NaN   \n",
       "1      #Bernie is the #AntiTrump #Biden is the #BlueT...  ...       NaN   \n",
       "2      @Rosario10i @BethLynch2020 No need to attack h...  ...       NaN   \n",
       "3      @AndyOstroy @JoeBiden Hey #Biden supporters: t...  ...       NaN   \n",
       "4      @number1fan_2 @BMarchetich There are 2 other v...  ...       NaN   \n",
       "...                                                  ...  ...       ...   \n",
       "39030  @realDonaldTrump @deanbaquet Columbia Univ edu...  ...       NaN   \n",
       "39031  @TrueBlue100K @twostarsartwork Please.. @JoeBi...  ...       NaN   \n",
       "39032  @Silvergt @AriFleischer Now after you #Tweet #...  ...       NaN   \n",
       "39033  @BrunoAmato_1 Biden should be more deliberate ...  ...       NaN   \n",
       "39034  @CJ4ShortPlz @PamEllaCasual @jeffsessions @jda...  ...       NaN   \n",
       "\n",
       "      trans_dest       community original_community_extension  \\\n",
       "0            NaN     community_0                          348   \n",
       "1            NaN     community_0                          348   \n",
       "2            NaN     community_0                          348   \n",
       "3            NaN     community_0                          348   \n",
       "4            NaN    community_55                           17   \n",
       "...          ...             ...                          ...   \n",
       "39030        NaN  community_1393                            2   \n",
       "39031        NaN  community_1847                            2   \n",
       "39032        NaN  community_1584                            2   \n",
       "39033        NaN  community_1619                            2   \n",
       "39034        NaN  community_1247                            2   \n",
       "\n",
       "                                      preprocessed_tweet  compound    neg  \\\n",
       "0      joebiden accuse sanders campaign distort recor...   -0.5106  0.400   \n",
       "1              bernie antitrump biden bluetrump question    0.0000  0.000   \n",
       "2      rosario bethlynch need attack plenty damage as...   -0.7430  0.474   \n",
       "3      andyostroy joebiden hey biden supporters joebi...    0.4404  0.000   \n",
       "4      number fan bmarchetich videos joebiden talk cu...    0.1280  0.101   \n",
       "...                                                  ...       ...    ...   \n",
       "39030  realdonaldtrump deanbaquet columbia univ educa...    0.0516  0.232   \n",
       "39031            trueblue twostarsartwork joebiden biden    0.0000  0.000   \n",
       "39032  silvergt arifleischer tweet biden longer racis...    0.3182  0.116   \n",
       "39033  brunoamato biden deliberate speak longer debat...    0.0000  0.000   \n",
       "39034  shortplz pamellacasual jeffsessions jdawsey re...   -0.4019  0.197   \n",
       "\n",
       "         neu    pos sentiment_type  \n",
       "0      0.358  0.242       NEGATIVE  \n",
       "1      1.000  0.000        NEUTRAL  \n",
       "2      0.526  0.000       NEGATIVE  \n",
       "3      0.734  0.266       POSITIVE  \n",
       "4      0.725  0.174       POSITIVE  \n",
       "...      ...    ...            ...  \n",
       "39030  0.559  0.209       POSITIVE  \n",
       "39031  1.000  0.000        NEUTRAL  \n",
       "39032  0.711  0.173       POSITIVE  \n",
       "39033  1.000  0.000        NEUTRAL  \n",
       "39034  0.803  0.000       NEGATIVE  \n",
       "\n",
       "[39035 rows x 43 columns]"
      ]
     },
     "execution_count": 15,
     "metadata": {},
     "output_type": "execute_result"
    }
   ],
   "source": [
    "df1"
   ]
  },
  {
   "cell_type": "code",
   "execution_count": 16,
   "metadata": {},
   "outputs": [
    {
     "data": {
      "text/plain": [
       "(array([0, 1, 2]),\n",
       " [Text(0, 0, 'POSITIVE'), Text(1, 0, 'NEGATIVE'), Text(2, 0, 'NEUTRAL')])"
      ]
     },
     "execution_count": 16,
     "metadata": {},
     "output_type": "execute_result"
    },
    {
     "data": {
      "image/png": "[encoded data removed]",
      "text/plain": [
       "<Figure size 432x288 with 1 Axes>"
      ]
     },
     "metadata": {
      "needs_background": "light"
     },
     "output_type": "display_data"
    }
   ],
   "source": [
    "df1.sentiment_type.value_counts().plot(kind='bar',title=\"sentiment analysis\", color = \"darkcyan\")\n",
    "plt.title(\"Sentiment Analysis \\n First Semester (Jan-Jun 2020)\")\n",
    "plt.xticks(rotation = 0)"
   ]
  },
  {
   "cell_type": "code",
   "execution_count": 17,
   "metadata": {
    "scrolled": true
   },
   "outputs": [
    {
     "data": {
      "text/plain": [
       "POSITIVE    17690\n",
       "NEGATIVE    14149\n",
       "NEUTRAL      7196\n",
       "Name: sentiment_type, dtype: int64"
      ]
     },
     "execution_count": 17,
     "metadata": {},
     "output_type": "execute_result"
    }
   ],
   "source": [
    "df1.sentiment_type.value_counts()"
   ]
  },
  {
   "cell_type": "markdown",
   "metadata": {},
   "source": [
    "#### Prime 5 comunità per numero di tweets - Primo Semestre"
   ]
  },
  {
   "cell_type": "code",
   "execution_count": 18,
   "metadata": {},
   "outputs": [
    {
     "name": "stdout",
     "output_type": "stream",
     "text": [
      "community_46      1854\n",
      "community_0       1637\n",
      "community_83       997\n",
      "community_1616     850\n",
      "community_1        827\n",
      "Name: community, dtype: int64\n",
      "\n",
      "--------------\n",
      "\n",
      "POSITIVE    2717\n",
      "NEGATIVE    2301\n",
      "NEUTRAL     1147\n",
      "Name: sentiment_type, dtype: int64\n"
     ]
    },
    {
     "data": {
      "text/plain": [
       "(array([0, 1, 2]),\n",
       " [Text(0, 0, 'POSITIVE'), Text(1, 0, 'NEGATIVE'), Text(2, 0, 'NEUTRAL')])"
      ]
     },
     "execution_count": 18,
     "metadata": {},
     "output_type": "execute_result"
    },
    {
     "data": {
      "image/png": "[encoded data removed]",
      "text/plain": [
       "<Figure size 432x288 with 1 Axes>"
      ]
     },
     "metadata": {
      "needs_background": "light"
     },
     "output_type": "display_data"
    }
   ],
   "source": [
    "df1_com0 = df1[df1[\"community\"]==\"community_0\"]\n",
    "df1_com1 = df1[df1[\"community\"]==\"community_1\"]\n",
    "df1_com46 = df1[df1[\"community\"]==\"community_46\"]\n",
    "df1_com83 = df1[df1[\"community\"]==\"community_83\"]\n",
    "df1_com1616 = df1[df1[\"community\"]==\"community_1616\"]\n",
    "\n",
    "joinDf = [df1_com0, df1_com1, df1_com46, df1_com83, df1_com1616]\n",
    "df1_com = pd.concat(joinDf)\n",
    "df1_com = df1_com.reset_index(drop=True)\n",
    "df1_com = df1_com.drop_duplicates()\n",
    "df1_com[\"tweet\"] = df1_com.tweet.astype(\"str\")\n",
    "df1_com[\"preprocessed_tweet\"] = df1_com[\"tweet\"].apply(preprocess_tweet)\n",
    "print(df1_com.community.value_counts())\n",
    "print('')\n",
    "print('--------------')\n",
    "print('')\n",
    "print(df1_com.sentiment_type.value_counts())\n",
    "\n",
    "\n",
    "df1_com.sentiment_type.value_counts().plot(kind='bar',title=\"sentiment analysis\", color = \"darkcyan\")\n",
    "plt.title(\"Sentiment Analysis \\n First 5 communities - First Semester (Jan-Jun 2020)\")\n",
    "plt.xticks(rotation = 0)\n",
    "\n",
    "\n"
   ]
  },
  {
   "cell_type": "markdown",
   "metadata": {},
   "source": [
    "#### Secondo Semestre (lug-dic 2020)"
   ]
  },
  {
   "cell_type": "code",
   "execution_count": 20,
   "metadata": {},
   "outputs": [],
   "source": [
    "df2['compound'] = [analyser.polarity_scores(x)['compound'] for x in df2['preprocessed_tweet']]\n",
    "df2['neg'] = [analyser.polarity_scores(x)['neg'] for x in df2['preprocessed_tweet']]\n",
    "df2['neu'] = [analyser.polarity_scores(x)['neu'] for x in df2['preprocessed_tweet']]\n",
    "df2['pos'] = [analyser.polarity_scores(x)['pos'] for x in df2['preprocessed_tweet']]"
   ]
  },
  {
   "cell_type": "code",
   "execution_count": 21,
   "metadata": {},
   "outputs": [],
   "source": [
    "df2['sentiment_type']=''\n",
    "df2.loc[df2.compound>=0.05,'sentiment_type']='POSITIVE'\n",
    "df2.loc[(df2.compound > -0.05) & (df2.compound < 0.05),'sentiment_type']='NEUTRAL'\n",
    "df2.loc[df2.compound<= - 0.05,'sentiment_type']='NEGATIVE'"
   ]
  },
  {
   "cell_type": "code",
   "execution_count": 22,
   "metadata": {},
   "outputs": [
    {
     "data": {
      "text/html": [
       "<div>\n",
       "<style scoped>\n",
       "    .dataframe tbody tr th:only-of-type {\n",
       "        vertical-align: middle;\n",
       "    }\n",
       "\n",
       "    .dataframe tbody tr th {\n",
       "        vertical-align: top;\n",
       "    }\n",
       "\n",
       "    .dataframe thead th {\n",
       "        text-align: right;\n",
       "    }\n",
       "</style>\n",
       "<table border=\"1\" class=\"dataframe\">\n",
       "  <thead>\n",
       "    <tr style=\"text-align: right;\">\n",
       "      <th></th>\n",
       "      <th>id</th>\n",
       "      <th>conversation_id</th>\n",
       "      <th>created_at</th>\n",
       "      <th>date</th>\n",
       "      <th>time</th>\n",
       "      <th>timezone</th>\n",
       "      <th>user_id</th>\n",
       "      <th>name</th>\n",
       "      <th>place</th>\n",
       "      <th>tweet</th>\n",
       "      <th>...</th>\n",
       "      <th>trans_src</th>\n",
       "      <th>trans_dest</th>\n",
       "      <th>community</th>\n",
       "      <th>original_community_extension</th>\n",
       "      <th>preprocessed_tweet</th>\n",
       "      <th>compound</th>\n",
       "      <th>neg</th>\n",
       "      <th>neu</th>\n",
       "      <th>pos</th>\n",
       "      <th>sentiment_type</th>\n",
       "    </tr>\n",
       "  </thead>\n",
       "  <tbody>\n",
       "    <tr>\n",
       "      <th>0</th>\n",
       "      <td>1329212446674972672</td>\n",
       "      <td>1327787149878431744</td>\n",
       "      <td>2020-11-18 23:58:37+00:00</td>\n",
       "      <td>2020-11-18</td>\n",
       "      <td>23:58:37</td>\n",
       "      <td>100</td>\n",
       "      <td>751582482055692288</td>\n",
       "      <td>Ana Puig</td>\n",
       "      <td>NaN</td>\n",
       "      <td>@WattersWorld @JesseBWatters #Democrats had to...</td>\n",
       "      <td>...</td>\n",
       "      <td>NaN</td>\n",
       "      <td>NaN</td>\n",
       "      <td>community_1376</td>\n",
       "      <td>2</td>\n",
       "      <td>wattersworld jessebwatters democrats pay creat...</td>\n",
       "      <td>0.7964</td>\n",
       "      <td>0.045</td>\n",
       "      <td>0.680</td>\n",
       "      <td>0.275</td>\n",
       "      <td>POSITIVE</td>\n",
       "    </tr>\n",
       "    <tr>\n",
       "      <th>1</th>\n",
       "      <td>1329211220080128007</td>\n",
       "      <td>1328468005408403456</td>\n",
       "      <td>2020-11-18 23:53:45+00:00</td>\n",
       "      <td>2020-11-18</td>\n",
       "      <td>23:53:45</td>\n",
       "      <td>100</td>\n",
       "      <td>751582482055692288</td>\n",
       "      <td>Ana Puig</td>\n",
       "      <td>NaN</td>\n",
       "      <td>@TVNewsHQ @JesseBWatters Of course Juan doesn’...</td>\n",
       "      <td>...</td>\n",
       "      <td>NaN</td>\n",
       "      <td>NaN</td>\n",
       "      <td>community_1376</td>\n",
       "      <td>2</td>\n",
       "      <td>tvnewshq jessebwatters course juan question de...</td>\n",
       "      <td>-0.2500</td>\n",
       "      <td>0.216</td>\n",
       "      <td>0.603</td>\n",
       "      <td>0.181</td>\n",
       "      <td>NEGATIVE</td>\n",
       "    </tr>\n",
       "    <tr>\n",
       "      <th>2</th>\n",
       "      <td>1329208082459725828</td>\n",
       "      <td>1328835306909442048</td>\n",
       "      <td>2020-11-18 23:41:17+00:00</td>\n",
       "      <td>2020-11-18</td>\n",
       "      <td>23:41:17</td>\n",
       "      <td>100</td>\n",
       "      <td>751582482055692288</td>\n",
       "      <td>Ana Puig</td>\n",
       "      <td>NaN</td>\n",
       "      <td>@JesseBWatters It’s no wonder #biden didn’t ha...</td>\n",
       "      <td>...</td>\n",
       "      <td>NaN</td>\n",
       "      <td>NaN</td>\n",
       "      <td>community_1376</td>\n",
       "      <td>2</td>\n",
       "      <td>jessebwatters wonder biden work</td>\n",
       "      <td>0.0000</td>\n",
       "      <td>0.000</td>\n",
       "      <td>1.000</td>\n",
       "      <td>0.000</td>\n",
       "      <td>NEUTRAL</td>\n",
       "    </tr>\n",
       "    <tr>\n",
       "      <th>3</th>\n",
       "      <td>1338632477934575618</td>\n",
       "      <td>1338616006676254720</td>\n",
       "      <td>2020-12-14 23:50:27+00:00</td>\n",
       "      <td>2020-12-14</td>\n",
       "      <td>23:50:27</td>\n",
       "      <td>100</td>\n",
       "      <td>751582482055692288</td>\n",
       "      <td>Ana Puig</td>\n",
       "      <td>NaN</td>\n",
       "      <td>@SenatorBraun He will never b freakin presiden...</td>\n",
       "      <td>...</td>\n",
       "      <td>NaN</td>\n",
       "      <td>NaN</td>\n",
       "      <td>community_1376</td>\n",
       "      <td>2</td>\n",
       "      <td>senatorbraun freakin president welcome sociali...</td>\n",
       "      <td>0.6249</td>\n",
       "      <td>0.282</td>\n",
       "      <td>0.356</td>\n",
       "      <td>0.361</td>\n",
       "      <td>POSITIVE</td>\n",
       "    </tr>\n",
       "    <tr>\n",
       "      <th>4</th>\n",
       "      <td>1326294154343821313</td>\n",
       "      <td>1326294154343821312</td>\n",
       "      <td>2020-11-10 22:42:22+00:00</td>\n",
       "      <td>2020-11-10</td>\n",
       "      <td>22:42:22</td>\n",
       "      <td>100</td>\n",
       "      <td>751582482055692288</td>\n",
       "      <td>Ana Puig</td>\n",
       "      <td>NaN</td>\n",
       "      <td>Who knows he just reads things what he is told...</td>\n",
       "      <td>...</td>\n",
       "      <td>NaN</td>\n",
       "      <td>NaN</td>\n",
       "      <td>community_1376</td>\n",
       "      <td>2</td>\n",
       "      <td>know read things tell think biden clue want want</td>\n",
       "      <td>0.1531</td>\n",
       "      <td>0.000</td>\n",
       "      <td>0.729</td>\n",
       "      <td>0.271</td>\n",
       "      <td>POSITIVE</td>\n",
       "    </tr>\n",
       "    <tr>\n",
       "      <th>...</th>\n",
       "      <td>...</td>\n",
       "      <td>...</td>\n",
       "      <td>...</td>\n",
       "      <td>...</td>\n",
       "      <td>...</td>\n",
       "      <td>...</td>\n",
       "      <td>...</td>\n",
       "      <td>...</td>\n",
       "      <td>...</td>\n",
       "      <td>...</td>\n",
       "      <td>...</td>\n",
       "      <td>...</td>\n",
       "      <td>...</td>\n",
       "      <td>...</td>\n",
       "      <td>...</td>\n",
       "      <td>...</td>\n",
       "      <td>...</td>\n",
       "      <td>...</td>\n",
       "      <td>...</td>\n",
       "      <td>...</td>\n",
       "      <td>...</td>\n",
       "    </tr>\n",
       "    <tr>\n",
       "      <th>28187</th>\n",
       "      <td>1343256045917851649</td>\n",
       "      <td>1343255327622381568</td>\n",
       "      <td>2020-12-27 18:02:52+00:00</td>\n",
       "      <td>2020-12-27</td>\n",
       "      <td>18:02:52</td>\n",
       "      <td>100</td>\n",
       "      <td>3857662152</td>\n",
       "      <td>sandy</td>\n",
       "      <td>NaN</td>\n",
       "      <td>@JoeBiden this line sucks until something big ...</td>\n",
       "      <td>...</td>\n",
       "      <td>NaN</td>\n",
       "      <td>NaN</td>\n",
       "      <td>community_1</td>\n",
       "      <td>205</td>\n",
       "      <td>joebiden line suck big roll joebiden joebide</td>\n",
       "      <td>-0.4404</td>\n",
       "      <td>0.326</td>\n",
       "      <td>0.674</td>\n",
       "      <td>0.000</td>\n",
       "      <td>NEGATIVE</td>\n",
       "    </tr>\n",
       "    <tr>\n",
       "      <th>28188</th>\n",
       "      <td>1343254738754809863</td>\n",
       "      <td>1343068648118874112</td>\n",
       "      <td>2020-12-27 17:57:40+00:00</td>\n",
       "      <td>2020-12-27</td>\n",
       "      <td>17:57:40</td>\n",
       "      <td>100</td>\n",
       "      <td>2615829849</td>\n",
       "      <td>Manuel Quijano</td>\n",
       "      <td>NaN</td>\n",
       "      <td>@MarkiCallaway @realDonaldTrump These Republic...</td>\n",
       "      <td>...</td>\n",
       "      <td>NaN</td>\n",
       "      <td>NaN</td>\n",
       "      <td>community_0</td>\n",
       "      <td>292</td>\n",
       "      <td>markicallaway realdonaldtrump republicans know...</td>\n",
       "      <td>-0.5267</td>\n",
       "      <td>0.185</td>\n",
       "      <td>0.815</td>\n",
       "      <td>0.000</td>\n",
       "      <td>NEGATIVE</td>\n",
       "    </tr>\n",
       "    <tr>\n",
       "      <th>28189</th>\n",
       "      <td>1343248768372670465</td>\n",
       "      <td>1337496865840001024</td>\n",
       "      <td>2020-12-27 17:33:57+00:00</td>\n",
       "      <td>2020-12-27</td>\n",
       "      <td>17:33:57</td>\n",
       "      <td>100</td>\n",
       "      <td>822678533944332288</td>\n",
       "      <td>Carolyne</td>\n",
       "      <td>NaN</td>\n",
       "      <td>@RepDavidRouzer The Fraud/Treason on Nov3rd ne...</td>\n",
       "      <td>...</td>\n",
       "      <td>NaN</td>\n",
       "      <td>NaN</td>\n",
       "      <td>community_1296</td>\n",
       "      <td>2</td>\n",
       "      <td>repdavidrouzer fraud treason nov need expose s...</td>\n",
       "      <td>0.8807</td>\n",
       "      <td>0.243</td>\n",
       "      <td>0.301</td>\n",
       "      <td>0.456</td>\n",
       "      <td>POSITIVE</td>\n",
       "    </tr>\n",
       "    <tr>\n",
       "      <th>28190</th>\n",
       "      <td>1343199774552551424</td>\n",
       "      <td>1343198032238694400</td>\n",
       "      <td>2020-12-27 14:19:16+00:00</td>\n",
       "      <td>2020-12-27</td>\n",
       "      <td>14:19:16</td>\n",
       "      <td>100</td>\n",
       "      <td>1283086926409617417</td>\n",
       "      <td>Programmer and IT expert</td>\n",
       "      <td>NaN</td>\n",
       "      <td>@laurenpeikoff My vision 2021 is to create Net...</td>\n",
       "      <td>...</td>\n",
       "      <td>NaN</td>\n",
       "      <td>NaN</td>\n",
       "      <td>community_966</td>\n",
       "      <td>2</td>\n",
       "      <td>laurenpeikoff vision create network home alert...</td>\n",
       "      <td>0.8957</td>\n",
       "      <td>0.000</td>\n",
       "      <td>0.485</td>\n",
       "      <td>0.515</td>\n",
       "      <td>POSITIVE</td>\n",
       "    </tr>\n",
       "    <tr>\n",
       "      <th>28191</th>\n",
       "      <td>1343186860542201857</td>\n",
       "      <td>1342954228256542720</td>\n",
       "      <td>2020-12-27 13:27:57+00:00</td>\n",
       "      <td>2020-12-27</td>\n",
       "      <td>13:27:57</td>\n",
       "      <td>100</td>\n",
       "      <td>2493199104</td>\n",
       "      <td>Mac</td>\n",
       "      <td>NaN</td>\n",
       "      <td>@BadgerStew @MNProgressive ICYMI ... retired #...</td>\n",
       "      <td>...</td>\n",
       "      <td>NaN</td>\n",
       "      <td>NaN</td>\n",
       "      <td>community_629</td>\n",
       "      <td>3</td>\n",
       "      <td>badgerstew mnprogressive icymi retire repribbl...</td>\n",
       "      <td>0.2263</td>\n",
       "      <td>0.086</td>\n",
       "      <td>0.799</td>\n",
       "      <td>0.115</td>\n",
       "      <td>POSITIVE</td>\n",
       "    </tr>\n",
       "  </tbody>\n",
       "</table>\n",
       "<p>28192 rows × 43 columns</p>\n",
       "</div>"
      ],
      "text/plain": [
       "                        id      conversation_id                 created_at  \\\n",
       "0      1329212446674972672  1327787149878431744  2020-11-18 23:58:37+00:00   \n",
       "1      1329211220080128007  1328468005408403456  2020-11-18 23:53:45+00:00   \n",
       "2      1329208082459725828  1328835306909442048  2020-11-18 23:41:17+00:00   \n",
       "3      1338632477934575618  1338616006676254720  2020-12-14 23:50:27+00:00   \n",
       "4      1326294154343821313  1326294154343821312  2020-11-10 22:42:22+00:00   \n",
       "...                    ...                  ...                        ...   \n",
       "28187  1343256045917851649  1343255327622381568  2020-12-27 18:02:52+00:00   \n",
       "28188  1343254738754809863  1343068648118874112  2020-12-27 17:57:40+00:00   \n",
       "28189  1343248768372670465  1337496865840001024  2020-12-27 17:33:57+00:00   \n",
       "28190  1343199774552551424  1343198032238694400  2020-12-27 14:19:16+00:00   \n",
       "28191  1343186860542201857  1342954228256542720  2020-12-27 13:27:57+00:00   \n",
       "\n",
       "             date      time  timezone              user_id  \\\n",
       "0      2020-11-18  23:58:37       100   751582482055692288   \n",
       "1      2020-11-18  23:53:45       100   751582482055692288   \n",
       "2      2020-11-18  23:41:17       100   751582482055692288   \n",
       "3      2020-12-14  23:50:27       100   751582482055692288   \n",
       "4      2020-11-10  22:42:22       100   751582482055692288   \n",
       "...           ...       ...       ...                  ...   \n",
       "28187  2020-12-27  18:02:52       100           3857662152   \n",
       "28188  2020-12-27  17:57:40       100           2615829849   \n",
       "28189  2020-12-27  17:33:57       100   822678533944332288   \n",
       "28190  2020-12-27  14:19:16       100  1283086926409617417   \n",
       "28191  2020-12-27  13:27:57       100           2493199104   \n",
       "\n",
       "                           name  place  \\\n",
       "0                      Ana Puig    NaN   \n",
       "1                      Ana Puig    NaN   \n",
       "2                      Ana Puig    NaN   \n",
       "3                      Ana Puig    NaN   \n",
       "4                      Ana Puig    NaN   \n",
       "...                         ...    ...   \n",
       "28187                     sandy    NaN   \n",
       "28188            Manuel Quijano    NaN   \n",
       "28189                  Carolyne    NaN   \n",
       "28190  Programmer and IT expert    NaN   \n",
       "28191                       Mac    NaN   \n",
       "\n",
       "                                                   tweet  ... trans_src  \\\n",
       "0      @WattersWorld @JesseBWatters #Democrats had to...  ...       NaN   \n",
       "1      @TVNewsHQ @JesseBWatters Of course Juan doesn’...  ...       NaN   \n",
       "2      @JesseBWatters It’s no wonder #biden didn’t ha...  ...       NaN   \n",
       "3      @SenatorBraun He will never b freakin presiden...  ...       NaN   \n",
       "4      Who knows he just reads things what he is told...  ...       NaN   \n",
       "...                                                  ...  ...       ...   \n",
       "28187  @JoeBiden this line sucks until something big ...  ...       NaN   \n",
       "28188  @MarkiCallaway @realDonaldTrump These Republic...  ...       NaN   \n",
       "28189  @RepDavidRouzer The Fraud/Treason on Nov3rd ne...  ...       NaN   \n",
       "28190  @laurenpeikoff My vision 2021 is to create Net...  ...       NaN   \n",
       "28191  @BadgerStew @MNProgressive ICYMI ... retired #...  ...       NaN   \n",
       "\n",
       "      trans_dest       community original_community_extension  \\\n",
       "0            NaN  community_1376                            2   \n",
       "1            NaN  community_1376                            2   \n",
       "2            NaN  community_1376                            2   \n",
       "3            NaN  community_1376                            2   \n",
       "4            NaN  community_1376                            2   \n",
       "...          ...             ...                          ...   \n",
       "28187        NaN     community_1                          205   \n",
       "28188        NaN     community_0                          292   \n",
       "28189        NaN  community_1296                            2   \n",
       "28190        NaN   community_966                            2   \n",
       "28191        NaN   community_629                            3   \n",
       "\n",
       "                                      preprocessed_tweet  compound    neg  \\\n",
       "0      wattersworld jessebwatters democrats pay creat...    0.7964  0.045   \n",
       "1      tvnewshq jessebwatters course juan question de...   -0.2500  0.216   \n",
       "2                        jessebwatters wonder biden work    0.0000  0.000   \n",
       "3      senatorbraun freakin president welcome sociali...    0.6249  0.282   \n",
       "4       know read things tell think biden clue want want    0.1531  0.000   \n",
       "...                                                  ...       ...    ...   \n",
       "28187       joebiden line suck big roll joebiden joebide   -0.4404  0.326   \n",
       "28188  markicallaway realdonaldtrump republicans know...   -0.5267  0.185   \n",
       "28189  repdavidrouzer fraud treason nov need expose s...    0.8807  0.243   \n",
       "28190  laurenpeikoff vision create network home alert...    0.8957  0.000   \n",
       "28191  badgerstew mnprogressive icymi retire repribbl...    0.2263  0.086   \n",
       "\n",
       "         neu    pos sentiment_type  \n",
       "0      0.680  0.275       POSITIVE  \n",
       "1      0.603  0.181       NEGATIVE  \n",
       "2      1.000  0.000        NEUTRAL  \n",
       "3      0.356  0.361       POSITIVE  \n",
       "4      0.729  0.271       POSITIVE  \n",
       "...      ...    ...            ...  \n",
       "28187  0.674  0.000       NEGATIVE  \n",
       "28188  0.815  0.000       NEGATIVE  \n",
       "28189  0.301  0.456       POSITIVE  \n",
       "28190  0.485  0.515       POSITIVE  \n",
       "28191  0.799  0.115       POSITIVE  \n",
       "\n",
       "[28192 rows x 43 columns]"
      ]
     },
     "execution_count": 22,
     "metadata": {},
     "output_type": "execute_result"
    }
   ],
   "source": [
    "df2"
   ]
  },
  {
   "cell_type": "code",
   "execution_count": 23,
   "metadata": {},
   "outputs": [
    {
     "data": {
      "text/plain": [
       "(array([0, 1, 2]),\n",
       " [Text(0, 0, 'POSITIVE'), Text(1, 0, 'NEGATIVE'), Text(2, 0, 'NEUTRAL')])"
      ]
     },
     "execution_count": 23,
     "metadata": {},
     "output_type": "execute_result"
    },
    {
     "data": {
      "image/png": "[encoded data removed]",
      "text/plain": [
       "<Figure size 432x288 with 1 Axes>"
      ]
     },
     "metadata": {
      "needs_background": "light"
     },
     "output_type": "display_data"
    }
   ],
   "source": [
    "df2.sentiment_type.value_counts().plot(kind='bar',title=\"sentiment analysis\", color = \"darkcyan\")\n",
    "plt.title(\"Sentiment Analysis \\n Second Semester (Jul-Dec 2020)\")\n",
    "plt.xticks(rotation = 0)"
   ]
  },
  {
   "cell_type": "code",
   "execution_count": 24,
   "metadata": {},
   "outputs": [
    {
     "data": {
      "text/plain": [
       "POSITIVE    11981\n",
       "NEGATIVE    10901\n",
       "NEUTRAL      5310\n",
       "Name: sentiment_type, dtype: int64"
      ]
     },
     "execution_count": 24,
     "metadata": {},
     "output_type": "execute_result"
    }
   ],
   "source": [
    "df2.sentiment_type.value_counts()"
   ]
  },
  {
   "cell_type": "markdown",
   "metadata": {},
   "source": [
    "#### Prime 5 comunità per numero di tweets - Secondo Semestre"
   ]
  },
  {
   "cell_type": "code",
   "execution_count": 25,
   "metadata": {},
   "outputs": [
    {
     "name": "stdout",
     "output_type": "stream",
     "text": [
      "community_1      1210\n",
      "community_0      1198\n",
      "community_878     764\n",
      "community_5       490\n",
      "community_29      469\n",
      "Name: community, dtype: int64\n",
      "\n",
      "--------------\n",
      "\n",
      "NEGATIVE    1761\n",
      "POSITIVE    1600\n",
      "NEUTRAL      770\n",
      "Name: sentiment_type, dtype: int64\n"
     ]
    },
    {
     "data": {
      "text/plain": [
       "(array([0, 1, 2]),\n",
       " [Text(0, 0, 'NEGATIVE'), Text(1, 0, 'POSITIVE'), Text(2, 0, 'NEUTRAL')])"
      ]
     },
     "execution_count": 25,
     "metadata": {},
     "output_type": "execute_result"
    },
    {
     "data": {
      "image/png": "[encoded data removed]",
      "text/plain": [
       "<Figure size 432x288 with 1 Axes>"
      ]
     },
     "metadata": {
      "needs_background": "light"
     },
     "output_type": "display_data"
    }
   ],
   "source": [
    "df2_com0 = df2[df2[\"community\"]==\"community_0\"]\n",
    "df2_com1 = df2[df2[\"community\"]==\"community_1\"]\n",
    "df2_com878 = df2[df2[\"community\"]==\"community_878\"]\n",
    "df2_com5 = df2[df2[\"community\"]==\"community_5\"]\n",
    "df2_com29 = df2[df2[\"community\"]==\"community_29\"]\n",
    "\n",
    "joinDf = [df2_com0, df2_com1, df2_com878, df2_com5, df2_com29]\n",
    "df2_com = pd.concat(joinDf)\n",
    "df2_com = df2_com.reset_index(drop=True)\n",
    "df2_com = df2_com.drop_duplicates()\n",
    "df2_com[\"tweet\"] = df2_com.tweet.astype(\"str\")\n",
    "df2_com[\"preprocessed_tweet\"] = df2_com[\"tweet\"].apply(preprocess_tweet)\n",
    "print(df2_com.community.value_counts())\n",
    "print('')\n",
    "print('--------------')\n",
    "print('')\n",
    "print(df2_com.sentiment_type.value_counts())\n",
    "\n",
    "\n",
    "df2_com.sentiment_type.value_counts().plot(kind='bar',title=\"sentiment analysis\", color = \"darkcyan\")\n",
    "plt.title(\"Sentiment Analysis \\n First 5 communities - Second Semester (Jul-Dec 2020)\")\n",
    "plt.xticks(rotation = 0)\n",
    "\n",
    "\n"
   ]
  },
  {
   "cell_type": "markdown",
   "metadata": {},
   "source": [
    "#### Terzo Semestre (gen-giu 2021)"
   ]
  },
  {
   "cell_type": "code",
   "execution_count": 26,
   "metadata": {},
   "outputs": [],
   "source": [
    "df3['compound'] = [analyser.polarity_scores(x)['compound'] for x in df3['preprocessed_tweet']]\n",
    "df3['neg'] = [analyser.polarity_scores(x)['neg'] for x in df3['preprocessed_tweet']]\n",
    "df3['neu'] = [analyser.polarity_scores(x)['neu'] for x in df3['preprocessed_tweet']]\n",
    "df3['pos'] = [analyser.polarity_scores(x)['pos'] for x in df3['preprocessed_tweet']]"
   ]
  },
  {
   "cell_type": "code",
   "execution_count": 27,
   "metadata": {},
   "outputs": [],
   "source": [
    "df3['sentiment_type']=''\n",
    "df3.loc[df3.compound>=0.05,'sentiment_type']='POSITIVE'\n",
    "df3.loc[(df3.compound > -0.05) & (df3.compound < 0.05),'sentiment_type']='NEUTRAL'\n",
    "df3.loc[df3.compound<= - 0.05,'sentiment_type']='NEGATIVE'"
   ]
  },
  {
   "cell_type": "code",
   "execution_count": 28,
   "metadata": {},
   "outputs": [
    {
     "data": {
      "text/plain": [
       "(array([0, 1, 2]),\n",
       " [Text(0, 0, 'POSITIVE'), Text(1, 0, 'NEGATIVE'), Text(2, 0, 'NEUTRAL')])"
      ]
     },
     "execution_count": 28,
     "metadata": {},
     "output_type": "execute_result"
    },
    {
     "data": {
      "image/png": "[encoded data removed]",
      "text/plain": [
       "<Figure size 432x288 with 1 Axes>"
      ]
     },
     "metadata": {
      "needs_background": "light"
     },
     "output_type": "display_data"
    }
   ],
   "source": [
    "df3.sentiment_type.value_counts().plot(kind='bar',title=\"sentiment analysis\", color = \"darkcyan\")\n",
    "plt.title(\"Sentiment Analysis \\n Thrid Semester (Jan-Jun 2021)\")\n",
    "plt.xticks(rotation = 0)"
   ]
  },
  {
   "cell_type": "code",
   "execution_count": 29,
   "metadata": {},
   "outputs": [
    {
     "data": {
      "text/plain": [
       "POSITIVE    5617\n",
       "NEGATIVE    5232\n",
       "NEUTRAL     2276\n",
       "Name: sentiment_type, dtype: int64"
      ]
     },
     "execution_count": 29,
     "metadata": {},
     "output_type": "execute_result"
    }
   ],
   "source": [
    "df3.sentiment_type.value_counts()"
   ]
  },
  {
   "cell_type": "markdown",
   "metadata": {},
   "source": [
    "#### Prime 5 comunità per numero di tweets - Terzo Semestre"
   ]
  },
  {
   "cell_type": "code",
   "execution_count": 30,
   "metadata": {},
   "outputs": [
    {
     "name": "stdout",
     "output_type": "stream",
     "text": [
      "community_1013    408\n",
      "community_850     391\n",
      "community_1001    276\n",
      "community_171     253\n",
      "community_508     218\n",
      "Name: community, dtype: int64\n",
      "\n",
      "--------------\n",
      "\n",
      "NEGATIVE    695\n",
      "POSITIVE    576\n",
      "NEUTRAL     275\n",
      "Name: sentiment_type, dtype: int64\n"
     ]
    },
    {
     "data": {
      "text/plain": [
       "(array([0, 1, 2]),\n",
       " [Text(0, 0, 'NEGATIVE'), Text(1, 0, 'POSITIVE'), Text(2, 0, 'NEUTRAL')])"
      ]
     },
     "execution_count": 30,
     "metadata": {},
     "output_type": "execute_result"
    },
    {
     "data": {
      "image/png": "[encoded data removed]",
      "text/plain": [
       "<Figure size 432x288 with 1 Axes>"
      ]
     },
     "metadata": {
      "needs_background": "light"
     },
     "output_type": "display_data"
    }
   ],
   "source": [
    "df3_com1013 = df3[df3[\"community\"]==\"community_1013\"]\n",
    "df3_com850 = df3[df3[\"community\"]==\"community_850\"]\n",
    "df3_com1001 = df3[df3[\"community\"]==\"community_1001\"]\n",
    "df3_com171 = df3[df3[\"community\"]==\"community_171\"]\n",
    "df3_com508 = df3[df3[\"community\"]==\"community_508\"]\n",
    "\n",
    "joinDf = [df3_com1013, df3_com850, df3_com1001, df3_com171, df3_com508]\n",
    "df3_com = pd.concat(joinDf)\n",
    "df3_com = df3_com.reset_index(drop=True)\n",
    "df3_com = df3_com.drop_duplicates()\n",
    "df3_com[\"tweet\"] = df3_com.tweet.astype(\"str\")\n",
    "df3_com[\"preprocessed_tweet\"] = df3_com[\"tweet\"].apply(preprocess_tweet)\n",
    "print(df3_com.community.value_counts())\n",
    "print('')\n",
    "print('--------------')\n",
    "print('')\n",
    "print(df3_com.sentiment_type.value_counts())\n",
    "\n",
    "\n",
    "df3_com.sentiment_type.value_counts().plot(kind='bar',title=\"sentiment analysis\", color = \"darkcyan\")\n",
    "plt.title(\"Sentiment Analysis \\n First 5 communities - Third Semester (Jan-Jun 2021)\")\n",
    "plt.xticks(rotation = 0)\n",
    "\n",
    "\n"
   ]
  },
  {
   "cell_type": "markdown",
   "metadata": {},
   "source": [
    "#### Quarto Semestre (lug-dic 2021)"
   ]
  },
  {
   "cell_type": "code",
   "execution_count": 31,
   "metadata": {},
   "outputs": [],
   "source": [
    "df4['compound'] = [analyser.polarity_scores(x)['compound'] for x in df4['preprocessed_tweet']]\n",
    "df4['neg'] = [analyser.polarity_scores(x)['neg'] for x in df4['preprocessed_tweet']]\n",
    "df4['neu'] = [analyser.polarity_scores(x)['neu'] for x in df4['preprocessed_tweet']]\n",
    "df4['pos'] = [analyser.polarity_scores(x)['pos'] for x in df4['preprocessed_tweet']]"
   ]
  },
  {
   "cell_type": "code",
   "execution_count": 32,
   "metadata": {},
   "outputs": [],
   "source": [
    "df4['sentiment_type']=''\n",
    "df4.loc[df4.compound>=0.05,'sentiment_type']='POSITIVE'\n",
    "df4.loc[(df4.compound > -0.05) & (df4.compound < 0.05),'sentiment_type']='NEUTRAL'\n",
    "df4.loc[df4.compound<= - 0.05,'sentiment_type']='NEGATIVE'"
   ]
  },
  {
   "cell_type": "code",
   "execution_count": 33,
   "metadata": {},
   "outputs": [
    {
     "data": {
      "text/plain": [
       "(array([0, 1, 2]),\n",
       " [Text(0, 0, 'NEGATIVE'), Text(1, 0, 'POSITIVE'), Text(2, 0, 'NEUTRAL')])"
      ]
     },
     "execution_count": 33,
     "metadata": {},
     "output_type": "execute_result"
    },
    {
     "data": {
      "image/png": "[encoded data removed]",
      "text/plain": [
       "<Figure size 432x288 with 1 Axes>"
      ]
     },
     "metadata": {
      "needs_background": "light"
     },
     "output_type": "display_data"
    }
   ],
   "source": [
    "df4.sentiment_type.value_counts().plot(kind='bar',title=\"sentiment analysis\", color = \"darkcyan\")\n",
    "plt.title(\"Sentiment Analysis \\n Fourth Semester (Jul-Dec 2021)\")\n",
    "plt.xticks(rotation = 0)"
   ]
  },
  {
   "cell_type": "code",
   "execution_count": 34,
   "metadata": {},
   "outputs": [
    {
     "data": {
      "text/plain": [
       "NEGATIVE    5818\n",
       "POSITIVE    4905\n",
       "NEUTRAL     2189\n",
       "Name: sentiment_type, dtype: int64"
      ]
     },
     "execution_count": 34,
     "metadata": {},
     "output_type": "execute_result"
    }
   ],
   "source": [
    "df4.sentiment_type.value_counts()"
   ]
  },
  {
   "cell_type": "markdown",
   "metadata": {},
   "source": [
    "#### Prime 5 comunità per numero di tweets - Quarto Semestre"
   ]
  },
  {
   "cell_type": "code",
   "execution_count": 35,
   "metadata": {},
   "outputs": [
    {
     "name": "stdout",
     "output_type": "stream",
     "text": [
      "community_0      444\n",
      "community_39     362\n",
      "community_78     352\n",
      "community_571    262\n",
      "community_156    190\n",
      "Name: community, dtype: int64\n",
      "\n",
      "--------------\n",
      "\n",
      "NEGATIVE    815\n",
      "POSITIVE    542\n",
      "NEUTRAL     253\n",
      "Name: sentiment_type, dtype: int64\n"
     ]
    },
    {
     "data": {
      "text/plain": [
       "(array([0, 1, 2]),\n",
       " [Text(0, 0, 'NEGATIVE'), Text(1, 0, 'POSITIVE'), Text(2, 0, 'NEUTRAL')])"
      ]
     },
     "execution_count": 35,
     "metadata": {},
     "output_type": "execute_result"
    },
    {
     "data": {
      "image/png": "[encoded data removed]",
      "text/plain": [
       "<Figure size 432x288 with 1 Axes>"
      ]
     },
     "metadata": {
      "needs_background": "light"
     },
     "output_type": "display_data"
    }
   ],
   "source": [
    "df4_com0 = df4[df4[\"community\"]==\"community_0\"]\n",
    "df4_com39 = df4[df4[\"community\"]==\"community_39\"]\n",
    "df4_com78 = df4[df4[\"community\"]==\"community_78\"]\n",
    "df4_com571 = df4[df4[\"community\"]==\"community_571\"]\n",
    "df4_com156 = df4[df4[\"community\"]==\"community_156\"]\n",
    "\n",
    "joinDf = [df4_com0, df4_com39, df4_com78, df4_com571, df4_com156]\n",
    "df4_com = pd.concat(joinDf)\n",
    "df4_com = df4_com.reset_index(drop=True)\n",
    "df4_com = df4_com.drop_duplicates()\n",
    "df4_com[\"tweet\"] = df4_com.tweet.astype(\"str\")\n",
    "df4_com[\"preprocessed_tweet\"] = df4_com[\"tweet\"].apply(preprocess_tweet)\n",
    "print(df4_com.community.value_counts())\n",
    "print('')\n",
    "print('--------------')\n",
    "print('')\n",
    "print(df4_com.sentiment_type.value_counts())\n",
    "\n",
    "\n",
    "df4_com.sentiment_type.value_counts().plot(kind='bar',title=\"sentiment analysis\", color = \"darkcyan\")\n",
    "plt.title(\"Sentiment Analysis \\n First 5 communities - Fourth Semester (Jul-Dec 2021)\")\n",
    "plt.xticks(rotation = 0)\n"
   ]
  },
  {
   "cell_type": "markdown",
   "metadata": {},
   "source": [
    "#### Quinto Semestre (Gen-Giu 2022)"
   ]
  },
  {
   "cell_type": "code",
   "execution_count": 36,
   "metadata": {},
   "outputs": [],
   "source": [
    "df5['compound'] = [analyser.polarity_scores(x)['compound'] for x in df5['preprocessed_tweet']]\n",
    "df5['neg'] = [analyser.polarity_scores(x)['neg'] for x in df5['preprocessed_tweet']]\n",
    "df5['neu'] = [analyser.polarity_scores(x)['neu'] for x in df5['preprocessed_tweet']]\n",
    "df5['pos'] = [analyser.polarity_scores(x)['pos'] for x in df5['preprocessed_tweet']]"
   ]
  },
  {
   "cell_type": "code",
   "execution_count": 37,
   "metadata": {},
   "outputs": [],
   "source": [
    "df5['sentiment_type']=''\n",
    "df5.loc[df5.compound>=0.05,'sentiment_type']='POSITIVE'\n",
    "df5.loc[(df5.compound > -0.05) & (df5.compound < 0.05),'sentiment_type']='NEUTRAL'\n",
    "df5.loc[df5.compound<= - 0.05,'sentiment_type']='NEGATIVE'"
   ]
  },
  {
   "cell_type": "code",
   "execution_count": 38,
   "metadata": {},
   "outputs": [
    {
     "data": {
      "text/plain": [
       "(array([0, 1, 2]),\n",
       " [Text(0, 0, 'NEGATIVE'), Text(1, 0, 'POSITIVE'), Text(2, 0, 'NEUTRAL')])"
      ]
     },
     "execution_count": 38,
     "metadata": {},
     "output_type": "execute_result"
    },
    {
     "data": {
      "image/png": "[encoded data removed]",
      "text/plain": [
       "<Figure size 432x288 with 1 Axes>"
      ]
     },
     "metadata": {
      "needs_background": "light"
     },
     "output_type": "display_data"
    }
   ],
   "source": [
    "df5.sentiment_type.value_counts().plot(kind='bar',title=\"sentiment analysis\", color = \"darkcyan\")\n",
    "plt.title(\"Sentiment Analysis \\n Fifth Semester (Jan-Jun 2022)\")\n",
    "plt.xticks(rotation = 0)"
   ]
  },
  {
   "cell_type": "code",
   "execution_count": 39,
   "metadata": {},
   "outputs": [
    {
     "data": {
      "text/plain": [
       "NEGATIVE    5622\n",
       "POSITIVE    4558\n",
       "NEUTRAL     1996\n",
       "Name: sentiment_type, dtype: int64"
      ]
     },
     "execution_count": 39,
     "metadata": {},
     "output_type": "execute_result"
    }
   ],
   "source": [
    "df5.sentiment_type.value_counts()"
   ]
  },
  {
   "cell_type": "markdown",
   "metadata": {},
   "source": [
    "#### Prime 5 comunità per numero di tweets - Quinto Semestre"
   ]
  },
  {
   "cell_type": "code",
   "execution_count": 40,
   "metadata": {},
   "outputs": [
    {
     "name": "stdout",
     "output_type": "stream",
     "text": [
      "community_451    489\n",
      "community_294    379\n",
      "community_103    242\n",
      "community_1      241\n",
      "community_5      238\n",
      "Name: community, dtype: int64\n",
      "\n",
      "--------------\n",
      "\n",
      "NEGATIVE    771\n",
      "POSITIVE    542\n",
      "NEUTRAL     276\n",
      "Name: sentiment_type, dtype: int64\n"
     ]
    },
    {
     "data": {
      "text/plain": [
       "(array([0, 1, 2]),\n",
       " [Text(0, 0, 'NEGATIVE'), Text(1, 0, 'POSITIVE'), Text(2, 0, 'NEUTRAL')])"
      ]
     },
     "execution_count": 40,
     "metadata": {},
     "output_type": "execute_result"
    },
    {
     "data": {
      "image/png": "[encoded data removed]",
      "text/plain": [
       "<Figure size 432x288 with 1 Axes>"
      ]
     },
     "metadata": {
      "needs_background": "light"
     },
     "output_type": "display_data"
    }
   ],
   "source": [
    "df5_com451 = df5[df5[\"community\"]==\"community_451\"]\n",
    "df5_com294 = df5[df5[\"community\"]==\"community_294\"]\n",
    "df5_com103 = df5[df5[\"community\"]==\"community_103\"]\n",
    "df5_com1 = df5[df5[\"community\"]==\"community_1\"]\n",
    "df5_com5 = df5[df5[\"community\"]==\"community_5\"]\n",
    "\n",
    "joinDf = [df5_com451, df5_com294, df5_com103, df5_com1, df5_com5]\n",
    "df5_com = pd.concat(joinDf)\n",
    "df5_com = df5_com.reset_index(drop=True)\n",
    "df5_com = df5_com.drop_duplicates()\n",
    "df5_com[\"tweet\"] = df5_com.tweet.astype(\"str\")\n",
    "df5_com[\"preprocessed_tweet\"] = df5_com[\"tweet\"].apply(preprocess_tweet)\n",
    "print(df5_com.community.value_counts())\n",
    "print('')\n",
    "print('--------------')\n",
    "print('')\n",
    "print(df5_com.sentiment_type.value_counts())\n",
    "\n",
    "\n",
    "df5_com.sentiment_type.value_counts().plot(kind='bar',title=\"sentiment analysis\", color = \"darkcyan\")\n",
    "plt.title(\"Sentiment Analysis \\n First 5 communities - Fifth Semester (Jan-Jun 2022)\")\n",
    "plt.xticks(rotation = 0)\n"
   ]
  },
  {
   "cell_type": "code",
   "execution_count": null,
   "metadata": {},
   "outputs": [],
   "source": []
  }
 ],
 "metadata": {
  "kernelspec": {
   "display_name": "Python 3",
   "language": "python",
   "name": "python3"
  },
  "language_info": {
   "codemirror_mode": {
    "name": "ipython",
    "version": 3
   },
   "file_extension": ".py",
   "mimetype": "text/x-python",
   "name": "python",
   "nbconvert_exporter": "python",
   "pygments_lexer": "ipython3",
   "version": "3.8.5"
  }
 },
 "nbformat": 4,
 "nbformat_minor": 4
}
