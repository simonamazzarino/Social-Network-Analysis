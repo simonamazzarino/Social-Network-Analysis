{
 "cells": [
  {
   "cell_type": "code",
   "execution_count": 171,
   "metadata": {},
   "outputs": [],
   "source": [
    "import pandas as pd\n",
    "import numpy as np\n",
    "import linkpred\n",
    "import networkx as nx\n",
    "import multiprocessing\n",
    "import matplotlib.pyplot as plt\n",
    "\n",
    "#from stellargraph import StellarGraph\n",
    "#from stellargraph.data import EdgeSplitter\n",
    "from IPython.display import display, HTML\n",
    "from sklearn.model_selection import train_test_split\n",
    "from sklearn.ensemble import RandomForestClassifier \n",
    "from sklearn import metrics \n",
    "from math import isclose\n",
    "from sklearn.decomposition import PCA\n",
    "from collections import Counter\n",
    "from sklearn.metrics import confusion_matrix\n",
    "from sklearn.metrics import accuracy_score, f1_score, classification_report\n",
    "from sklearn.metrics import roc_curve, auc, roc_auc_score\n",
    "\n",
    "%matplotlib inline"
   ]
  },
  {
   "cell_type": "code",
   "execution_count": 172,
   "metadata": {},
   "outputs": [],
   "source": [
    "df = pd.read_csv(\"../data_collection/data_biden/df_per_grafo_pesato.csv\", skipinitialspace=True, na_values='?', keep_default_na=True)   \n",
    "del df['Unnamed: 0']\n",
    "del df['id_source']\n",
    "del df['id_target']"
   ]
  },
  {
   "cell_type": "code",
   "execution_count": 173,
   "metadata": {},
   "outputs": [],
   "source": [
    "df.source = df.source.astype(str)\n",
    "df.target = df.target.astype(str)\n",
    "\n",
    "g = nx.from_pandas_edgelist(df, source=\"source\", target = \"target\", create_using=nx.MultiDiGraph(), edge_attr = \"weights\")\n",
    "#coverto il grafo diretto in indiretto\n",
    "g = g.to_undirected() #multigrafo (più collegamenti tra gli stessi nodi)"
   ]
  },
  {
   "cell_type": "code",
   "execution_count": 174,
   "metadata": {},
   "outputs": [
    {
     "data": {
      "text/plain": [
       "22737"
      ]
     },
     "execution_count": 174,
     "metadata": {},
     "output_type": "execute_result"
    }
   ],
   "source": [
    "len(g)"
   ]
  },
  {
   "cell_type": "code",
   "execution_count": 175,
   "metadata": {},
   "outputs": [],
   "source": [
    "comps = list(nx.connected_components(g))\n",
    "comps_sorted = sorted(comps, key=len, reverse = True)\n",
    "bcc = nx.subgraph(g, comps_sorted[0]) "
   ]
  },
  {
   "cell_type": "code",
   "execution_count": 176,
   "metadata": {},
   "outputs": [
    {
     "data": {
      "text/plain": [
       "19675"
      ]
     },
     "execution_count": 176,
     "metadata": {},
     "output_type": "execute_result"
    }
   ],
   "source": [
    "len(bcc)"
   ]
  },
  {
   "cell_type": "code",
   "execution_count": 238,
   "metadata": {},
   "outputs": [],
   "source": [
    "#creo un campione dei dati a partire dal giant component\n",
    "def sample_data(g): \n",
    "    degree_calc = {node: val for (node, val) in g.degree()}\n",
    "    degree = dict(sorted(degree_calc.items(), key=lambda item: item[1], reverse = True))\n",
    "    sample = []\n",
    "    for k, v in degree.items():\n",
    "        if(v >=  10):\n",
    "            sample.append(k)   \n",
    "    sample_data = g.subgraph(sample)\n",
    "    return sample_data"
   ]
  },
  {
   "cell_type": "code",
   "execution_count": 239,
   "metadata": {},
   "outputs": [],
   "source": [
    "g_small = sample_data(bcc)"
   ]
  },
  {
   "cell_type": "code",
   "execution_count": 240,
   "metadata": {},
   "outputs": [
    {
     "data": {
      "text/plain": [
       "963"
      ]
     },
     "execution_count": 240,
     "metadata": {},
     "output_type": "execute_result"
    }
   ],
   "source": [
    "len(g_small)"
   ]
  },
  {
   "cell_type": "code",
   "execution_count": 241,
   "metadata": {},
   "outputs": [
    {
     "data": {
      "text/plain": [
       "'Name: \\nType: MultiGraph\\nNumber of nodes: 963\\nNumber of edges: 4810\\nAverage degree:   9.9896'"
      ]
     },
     "execution_count": 241,
     "metadata": {},
     "output_type": "execute_result"
    }
   ],
   "source": [
    "nx.info(g_small)"
   ]
  },
  {
   "cell_type": "markdown",
   "metadata": {},
   "source": [
    "## Unsupervised methods"
   ]
  },
  {
   "cell_type": "markdown",
   "metadata": {},
   "source": [
    "### Neighborhood\n",
    "How many friend we have to share in order to become friends?"
   ]
  },
  {
   "cell_type": "markdown",
   "metadata": {},
   "source": [
    "#### Common Neighbors\n",
    "The more friends we share, the more likely we will become friends."
   ]
  },
  {
   "cell_type": "code",
   "execution_count": 242,
   "metadata": {},
   "outputs": [
    {
     "name": "stdout",
     "output_type": "stream",
     "text": [
      "realDonaldTrump - JoeBiden 121.0\n",
      "JoeBiden - BernieSanders 70.0\n",
      "POTUS - JoeBiden 67.0\n",
      "KamalaHarris - JoeBiden 56.0\n",
      "JoeBiden - BarackObama 45.0\n",
      "thehill - JoeBiden 44.0\n",
      "MSNBC - JoeBiden 44.0\n",
      "irvinepmaicon - blesamerica 40.0\n",
      "JoeBiden - CNN 40.0\n",
      "realDonaldTrump - POTUS 37.0\n",
      "amyklobuchar - JoeBiden 36.0\n",
      "JoeBiden - HillaryClinton 35.0\n",
      "realDonaldTrump - WhiteHouse 33.0\n",
      "ewarren - JoeBiden 32.0\n",
      "WhiteHouse - JoeBiden 32.0\n",
      "thehill - realDonaldTrump 31.0\n",
      "WhiteHouse - POTUS 31.0\n",
      "realDonaldTrump - KamalaHarris 30.0\n",
      "TheDemocrats - JoeBiden 30.0\n",
      "realDonaldTrump - FoxNews 29.0\n"
     ]
    }
   ],
   "source": [
    "cn = linkpred.predictors.CommonNeighbours(g_small, excluded=g_small.edges()) # We aim to predict only new links, thus we exclude existing ones\n",
    "cn_results = cn.predict()\n",
    "\n",
    "top = cn_results.top(20)\n",
    "for edge, score in top.items():\n",
    "    print(edge, score)"
   ]
  },
  {
   "cell_type": "markdown",
   "metadata": {},
   "source": [
    "#### Jaccard\n",
    "The more similar our friends circles are, the more likely we will become friends."
   ]
  },
  {
   "cell_type": "code",
   "execution_count": 243,
   "metadata": {},
   "outputs": [
    {
     "name": "stdout",
     "output_type": "stream",
     "text": [
      "vankapro - mdoyle43007 1.0\n",
      "vankapro - franceintheus 1.0\n",
      "vankapro - apostelx 1.0\n",
      "smartusapat1 - helaine6 1.0\n",
      "rnmukmuk - pissedoffdr 1.0\n",
      "rnmukmuk - madg_lulu22 1.0\n",
      "rnmukmuk - diamondsnjeans 1.0\n",
      "pollymoxie1 - neilfan12 1.0\n",
      "pollymoxie1 - mi3jules_xo 1.0\n",
      "pollymoxie1 - calistamueller 1.0\n",
      "pollymoxie1 - butterflymom322 1.0\n",
      "pollymoxie1 - bastagal 1.0\n",
      "pissedoffdr - madg_lulu22 1.0\n",
      "pissedoffdr - diamondsnjeans 1.0\n",
      "neilfan12 - mi3jules_xo 1.0\n",
      "neilfan12 - calistamueller 1.0\n",
      "neilfan12 - butterflymom322 1.0\n",
      "neilfan12 - bastagal 1.0\n",
      "moderaterepand1 - heathwatchman 1.0\n",
      "moderaterepand1 - brendap1949 1.0\n"
     ]
    }
   ],
   "source": [
    "jc = linkpred.predictors.Jaccard(g_small, excluded=g_small.edges())\n",
    "jc_results = jc.predict()\n",
    "\n",
    "top = jc_results.top(20)\n",
    "for edge, score in top.items():\n",
    "    print(edge, score)"
   ]
  },
  {
   "cell_type": "markdown",
   "metadata": {},
   "source": [
    "#### Adamic Adar\n",
    "The more selective our mutual friends are, the more likely we will become friends."
   ]
  },
  {
   "cell_type": "code",
   "execution_count": 244,
   "metadata": {},
   "outputs": [
    {
     "name": "stdout",
     "output_type": "stream",
     "text": [
      "realDonaldTrump - JoeBiden 53.32050791410959\n",
      "JoeBiden - BernieSanders 31.68953512673143\n",
      "POTUS - JoeBiden 29.48348330082187\n",
      "KamalaHarris - JoeBiden 21.973771924434434\n",
      "MSNBC - JoeBiden 17.61369293276543\n",
      "thehill - JoeBiden 17.38095970785231\n",
      "JoeBiden - BarackObama 17.172954462465324\n",
      "realDonaldTrump - POTUS 16.705905427946057\n",
      "JoeBiden - CNN 16.456231648162813\n",
      "JoeBiden - HillaryClinton 15.440330278990778\n",
      "amyklobuchar - JoeBiden 14.620285173406668\n",
      "realDonaldTrump - WhiteHouse 13.836945538942377\n",
      "irvinepmaicon - blesamerica 13.76578723583933\n",
      "ewarren - JoeBiden 13.716400247091247\n",
      "TheDemocrats - JoeBiden 13.427044247219555\n",
      "WhiteHouse - JoeBiden 12.211739793180069\n",
      "realDonaldTrump - FoxNews 12.171186826570327\n",
      "WhiteHouse - POTUS 12.1250033417007\n",
      "thehill - realDonaldTrump 12.119355794974782\n",
      "realDonaldTrump - CNN 11.718346610447334\n"
     ]
    }
   ],
   "source": [
    "aa = linkpred.predictors.AdamicAdar(g_small, excluded=g_small.edges())\n",
    "aa_results = aa.predict()\n",
    "\n",
    "top = aa_results.top(20)\n",
    "for edge, score in top.items():\n",
    "    print(edge, score)"
   ]
  },
  {
   "cell_type": "markdown",
   "metadata": {},
   "source": [
    "### Paths\n",
    "How distant are we?"
   ]
  },
  {
   "cell_type": "markdown",
   "metadata": {},
   "source": [
    "#### Katz\n",
    "Katz computes the weighted sum over all the paths between two nodes."
   ]
  },
  {
   "cell_type": "code",
   "execution_count": 245,
   "metadata": {},
   "outputs": [
    {
     "name": "stdout",
     "output_type": "stream",
     "text": [
      "Computing matrix powers: [############################################################] 5/5\n",
      "realDonaldTrump - JoeBiden 0.00012109586488800001\n",
      "JoeBiden - BernieSanders 7.0048569788e-05\n",
      "POTUS - JoeBiden 6.705716611300002e-05\n",
      "KamalaHarris - JoeBiden 5.6044315608999995e-05\n",
      "JoeBiden - BarackObama 4.5036998529e-05\n",
      "thehill - JoeBiden 4.403723585700001e-05\n",
      "MSNBC - JoeBiden 4.403684518400001e-05\n",
      "JoeBiden - CNN 4.003719108499999e-05\n",
      "irvinepmaicon - blesamerica 4.003331834600001e-05\n",
      "realDonaldTrump - POTUS 3.703263848599999e-05\n"
     ]
    }
   ],
   "source": [
    "kz = linkpred.predictors.Katz(g_small, excluded=g_small.edges())\n",
    "kz_results = kz.predict()\n",
    "\n",
    "top = kz_results.top(10)\n",
    "for edge, score in top.items():\n",
    "    print(edge, score)"
   ]
  },
  {
   "cell_type": "markdown",
   "metadata": {},
   "source": [
    "### Ranking\n",
    "How similar we are?"
   ]
  },
  {
   "cell_type": "markdown",
   "metadata": {},
   "source": [
    "#### SimRank"
   ]
  },
  {
   "cell_type": "code",
   "execution_count": 246,
   "metadata": {},
   "outputs": [
    {
     "name": "stdout",
     "output_type": "stream",
     "text": [
      "rnmukmuk - pissedoffdr 0.7000320143305977\n",
      "rnmukmuk - madg_lulu22 0.7000320143305977\n",
      "rnmukmuk - diamondsnjeans 0.7000320143305977\n",
      "pissedoffdr - madg_lulu22 0.7000320143305977\n",
      "pissedoffdr - diamondsnjeans 0.7000320143305977\n",
      "madg_lulu22 - diamondsnjeans 0.7000320143305977\n",
      "maryellen622 - lynnoven 0.7000319708476663\n",
      "maryellen622 - hellanbiglove 0.7000319708476663\n",
      "maryellen622 - cokogay 0.7000319708476663\n",
      "maryellen622 - biennial_piano 0.7000319708476663\n"
     ]
    }
   ],
   "source": [
    "simrank = linkpred.predictors.SimRank(g_small, excluded=g_small.edges())\n",
    "simrank_results = simrank.predict(c=0.7)\n",
    "\n",
    "top = simrank_results.top(10)\n",
    "for edge, score in top.items():\n",
    "    print(edge, score)"
   ]
  },
  {
   "cell_type": "markdown",
   "metadata": {},
   "source": [
    "## Evaluation and comparison of different unsupervised predictors"
   ]
  },
  {
   "cell_type": "code",
   "execution_count": 247,
   "metadata": {},
   "outputs": [],
   "source": [
    "import itertools\n",
    "from linkpred.evaluation import Pair"
   ]
  },
  {
   "cell_type": "code",
   "execution_count": 248,
   "metadata": {},
   "outputs": [],
   "source": [
    "import random"
   ]
  },
  {
   "cell_type": "code",
   "execution_count": 249,
   "metadata": {},
   "outputs": [
    {
     "name": "stdout",
     "output_type": "stream",
     "text": [
      "Test nodes:  200\n",
      "Test edges:  202\n",
      "\n",
      "Training:  963\n",
      "Training:  4608\n"
     ]
    }
   ],
   "source": [
    "H = g_small.copy()\n",
    "\n",
    "# Create test network\n",
    "test = H.subgraph(random.sample(g_small.nodes(), 200))\n",
    "print(\"Test nodes: \", len(test.nodes()))\n",
    "print(\"Test edges: \", len(test.edges()))\n",
    "\n",
    "# Exclude test network from learning phase\n",
    "training = H.copy()\n",
    "training.remove_edges_from(test.edges())\n",
    "\n",
    "print(\"\\nTraining: \", len(training.nodes()))\n",
    "print(\"Training: \", len(training.edges()))\n",
    "\n",
    "# Node set\n",
    "nodes = list(H.nodes())\n",
    "nodes.extend(list(test.nodes()))"
   ]
  },
  {
   "cell_type": "code",
   "execution_count": 250,
   "metadata": {},
   "outputs": [],
   "source": [
    "# Compute the test set and the universe set\n",
    "test = [Pair(i) for i in test.edges()]\n"
   ]
  },
  {
   "cell_type": "code",
   "execution_count": 251,
   "metadata": {},
   "outputs": [
    {
     "data": {
      "text/plain": [
       "463203"
      ]
     },
     "execution_count": 251,
     "metadata": {},
     "output_type": "execute_result"
    }
   ],
   "source": [
    "universe = set([Pair(i) for i in itertools.product(nodes, nodes) if i[0]!=i[1]])\n",
    "len(universe)"
   ]
  },
  {
   "cell_type": "code",
   "execution_count": 252,
   "metadata": {},
   "outputs": [],
   "source": [
    "cn = linkpred.predictors.CommonNeighbours(training, excluded=training.edges())\n",
    "cn_results = cn.predict()"
   ]
  },
  {
   "cell_type": "code",
   "execution_count": 253,
   "metadata": {},
   "outputs": [],
   "source": [
    "jc = linkpred.predictors.Jaccard(training, excluded=training.edges())\n",
    "jc_results = jc.predict()"
   ]
  },
  {
   "cell_type": "code",
   "execution_count": 254,
   "metadata": {},
   "outputs": [],
   "source": [
    "aa = linkpred.predictors.AdamicAdar(training, excluded=training.edges())\n",
    "aa_results = aa.predict()"
   ]
  },
  {
   "cell_type": "code",
   "execution_count": 255,
   "metadata": {},
   "outputs": [
    {
     "name": "stdout",
     "output_type": "stream",
     "text": [
      "Computing matrix powers: [############################################################] 5/5\n"
     ]
    }
   ],
   "source": [
    "kz = linkpred.predictors.Katz(training, excluded=training.edges())\n",
    "kz_results = kz.predict()"
   ]
  },
  {
   "cell_type": "code",
   "execution_count": 256,
   "metadata": {},
   "outputs": [],
   "source": [
    "simrank = linkpred.predictors.SimRank(training, excluded=training.edges())\n",
    "simrank_results = simrank.predict()"
   ]
  },
  {
   "cell_type": "code",
   "execution_count": 257,
   "metadata": {},
   "outputs": [],
   "source": [
    "random = linkpred.predictors.Random(training, excluded=training.edges())\n",
    "rnd_results = random.predict()"
   ]
  },
  {
   "cell_type": "code",
   "execution_count": 258,
   "metadata": {},
   "outputs": [
    {
     "name": "stdout",
     "output_type": "stream",
     "text": [
      "done\n",
      "done\n",
      "done\n",
      "done\n",
      "done\n",
      "done\n"
     ]
    }
   ],
   "source": [
    "cn_evaluation = linkpred.evaluation.EvaluationSheet(cn_results, test, universe)\n",
    "print(\"done\")\n",
    "aa_evaluation = linkpred.evaluation.EvaluationSheet(aa_results, test, universe)\n",
    "print(\"done\")\n",
    "jc_evaluation = linkpred.evaluation.EvaluationSheet(jc_results, test, universe)\n",
    "print(\"done\")\n",
    "kz_evaluation = linkpred.evaluation.EvaluationSheet(kz_results, test, universe)\n",
    "print(\"done\")\n",
    "simrank_evaluation = linkpred.evaluation.EvaluationSheet(simrank_results, test, universe)\n",
    "print(\"done\")\n",
    "rn_evaluation = linkpred.evaluation.EvaluationSheet(rnd_results, test, universe)\n",
    "print('done')"
   ]
  },
  {
   "cell_type": "code",
   "execution_count": 291,
   "metadata": {},
   "outputs": [],
   "source": [
    "def print_res(res):\n",
    "    top = res.top(10)\n",
    "    for edge, score in top.items():\n",
    "        print(edge, score)"
   ]
  },
  {
   "cell_type": "code",
   "execution_count": 292,
   "metadata": {},
   "outputs": [
    {
     "name": "stdout",
     "output_type": "stream",
     "text": [
      "realDonaldTrump - JoeBiden 44.28247464299631\n",
      "JoeBiden - BernieSanders 32.67465765794524\n",
      "POTUS - JoeBiden 29.804481546013164\n",
      "KamalaHarris - JoeBiden 22.54949047089637\n",
      "MSNBC - JoeBiden 18.048548032653244\n",
      "JoeBiden - BarackObama 17.408312719960556\n",
      "JoeBiden - HillaryClinton 15.53356794323385\n",
      "amyklobuchar - JoeBiden 14.941017325378791\n",
      "ewarren - JoeBiden 14.137381132014736\n",
      "JoeBiden - CNN 14.026847055092565\n",
      "\n",
      "\n",
      "\n",
      "realDonaldTrump - JoeBiden 100.0\n",
      "JoeBiden - BernieSanders 70.0\n",
      "POTUS - JoeBiden 67.0\n",
      "KamalaHarris - JoeBiden 56.0\n",
      "JoeBiden - BarackObama 45.0\n",
      "MSNBC - JoeBiden 44.0\n",
      "irvinepmaicon - blesamerica 40.0\n",
      "amyklobuchar - JoeBiden 36.0\n",
      "JoeBiden - HillaryClinton 35.0\n",
      "thehill - JoeBiden 34.0\n",
      "\n",
      "\n",
      "\n",
      "vankapro - mdoyle43007 1.0\n",
      "vankapro - glenthecreator 1.0\n",
      "vankapro - franceintheus 1.0\n",
      "vankapro - candice81749123 1.0\n",
      "vankapro - apostelx 1.0\n",
      "rnmukmuk - pissedoffdr 1.0\n",
      "rnmukmuk - madg_lulu22 1.0\n",
      "rnmukmuk - diamondsnjeans 1.0\n",
      "pollymoxie1 - neilfan12 1.0\n",
      "pollymoxie1 - mi3jules_xo 1.0\n",
      "\n",
      "\n",
      "\n",
      "realDonaldTrump - JoeBiden 0.00010007495847200003\n",
      "JoeBiden - BernieSanders 7.004655662300001e-05\n",
      "POTUS - JoeBiden 6.705407982500003e-05\n",
      "KamalaHarris - JoeBiden 5.6042222388000006e-05\n",
      "JoeBiden - BarackObama 4.5034949357e-05\n",
      "MSNBC - JoeBiden 4.4034575988000004e-05\n",
      "irvinepmaicon - blesamerica 4.0032214059e-05\n",
      "amyklobuchar - JoeBiden 3.602769474399999e-05\n",
      "JoeBiden - HillaryClinton 3.5022464194e-05\n",
      "thehill - JoeBiden 3.4026093693e-05\n",
      "\n",
      "\n",
      "\n",
      "rnmukmuk - pissedoffdr 0.8000393350679422\n",
      "rnmukmuk - madg_lulu22 0.8000393350679422\n",
      "rnmukmuk - diamondsnjeans 0.8000393350679422\n",
      "pissedoffdr - madg_lulu22 0.8000393350679422\n",
      "pissedoffdr - diamondsnjeans 0.8000393350679422\n",
      "madg_lulu22 - diamondsnjeans 0.8000393350679422\n",
      "maryellen622 - hellanbiglove 0.8000393009209928\n",
      "maryellen622 - cokogay 0.8000393009209928\n",
      "maryellen622 - biennial_piano 0.8000393009209928\n",
      "maryellen622 - babycatcher291 0.8000393009209928\n"
     ]
    }
   ],
   "source": [
    "print_res(aa_results)\n",
    "print(\"\")\n",
    "print(\"\")\n",
    "print(\"\")\n",
    "print_res(cn_results)\n",
    "print(\"\")\n",
    "print(\"\")\n",
    "print(\"\")\n",
    "print_res(jc_results)\n",
    "print(\"\")\n",
    "print(\"\")\n",
    "print(\"\")\n",
    "print_res(kz_results)\n",
    "print(\"\")\n",
    "print(\"\")\n",
    "print(\"\")\n",
    "print_res(simrank_results)"
   ]
  },
  {
   "cell_type": "code",
   "execution_count": 262,
   "metadata": {},
   "outputs": [
    {
     "data": {
      "image/png": "[encoded data removed]",
      "text/plain": [
       "<Figure size 432x288 with 1 Axes>"
      ]
     },
     "metadata": {
      "needs_background": "light"
     },
     "output_type": "display_data"
    }
   ],
   "source": [
    "plt.plot(simrank_evaluation.fallout(), simrank_evaluation.recall(), label=\"SimRank\")\n",
    "plt.plot(rn_evaluation.fallout(), rn_evaluation.recall(), label=\"Random Pred\")\n",
    "\n",
    "plt.xlabel(\"FPR\")\n",
    "plt.xlabel(\"TPR\")\n",
    "plt.legend()\n",
    "plt.show()"
   ]
  },
  {
   "cell_type": "code",
   "execution_count": 271,
   "metadata": {},
   "outputs": [
    {
     "data": {
      "image/png": "[encoded data removed]",
      "text/plain": [
       "<Figure size 432x288 with 1 Axes>"
      ]
     },
     "metadata": {
      "needs_background": "light"
     },
     "output_type": "display_data"
    }
   ],
   "source": [
    "plt.plot(cn_evaluation.fallout(), cn_evaluation.recall(), label=\"Common Neighbors\")\n",
    "plt.plot(aa_evaluation.fallout(), aa_evaluation.recall(), label=\"Adamic Adar\")\n",
    "plt.plot(jc_evaluation.fallout(), jc_evaluation.recall(), label=\"Jaccard\")\n",
    "\n",
    "\n",
    "\n",
    "plt.xlabel(\"FPR\")\n",
    "plt.ylabel(\"TPR\")\n",
    "plt.legend()\n",
    "plt.show()"
   ]
  },
  {
   "cell_type": "code",
   "execution_count": 272,
   "metadata": {},
   "outputs": [
    {
     "data": {
      "image/png": "[encoded data removed]",
      "text/plain": [
       "<Figure size 432x288 with 1 Axes>"
      ]
     },
     "metadata": {
      "needs_background": "light"
     },
     "output_type": "display_data"
    }
   ],
   "source": [
    "plt.plot(kz_evaluation.fallout(), kz_evaluation.recall(), label=\"Katz\")\n",
    "plt.plot(simrank_evaluation.fallout(), simrank_evaluation.recall(), label=\"SimRank\")\n",
    "plt.plot(rn_evaluation.fallout(), rn_evaluation.recall(), label=\"Random Pred\")\n",
    "plt.xlabel(\"FPR\")\n",
    "plt.ylabel(\"TPR\")\n",
    "plt.legend()\n",
    "plt.show()"
   ]
  },
  {
   "cell_type": "code",
   "execution_count": 274,
   "metadata": {},
   "outputs": [
    {
     "name": "stdout",
     "output_type": "stream",
     "text": [
      "Area Under Roc Curve (AUROC)\n",
      "Common Neigh.: \t 0.0005333371711170309\n",
      "Adamic Adar: \t 0.0019228301390876539\n",
      "Jaccard: \t 0.0005806180389961733\n",
      "Katz: \t 0.565512806774726\n",
      "SimRank: \t 0.32406093000547587\n",
      "Random: \t 0.49692376046661235\n"
     ]
    }
   ],
   "source": [
    "from sklearn.metrics import auc\n",
    "\n",
    "print(\"Area Under Roc Curve (AUROC)\")\n",
    "print(f\"Common Neigh.: \\t {auc(cn_evaluation.fallout(), cn_evaluation.recall())}\")\n",
    "print(f\"Adamic Adar: \\t {auc(aa_evaluation.fallout(), aa_evaluation.recall())}\")\n",
    "print(f\"Jaccard: \\t {auc(jc_evaluation.fallout(), jc_evaluation.recall())}\")\n",
    "print(f\"Katz: \\t {auc(kz_evaluation.fallout(), kz_evaluation.recall())}\")\n",
    "print(f\"SimRank: \\t {auc(simrank_evaluation.fallout(), simrank_evaluation.recall())}\")\n",
    "print(f\"Random: \\t {auc(rn_evaluation.fallout(), rn_evaluation.recall())}\")"
   ]
  },
  {
   "cell_type": "code",
   "execution_count": null,
   "metadata": {},
   "outputs": [],
   "source": []
  }
 ],
 "metadata": {
  "kernelspec": {
   "display_name": "Python 3",
   "language": "python",
   "name": "python3"
  },
  "language_info": {
   "codemirror_mode": {
    "name": "ipython",
    "version": 3
   },
   "file_extension": ".py",
   "mimetype": "text/x-python",
   "name": "python",
   "nbconvert_exporter": "python",
   "pygments_lexer": "ipython3",
   "version": "3.8.5"
  }
 },
 "nbformat": 4,
 "nbformat_minor": 4
}
