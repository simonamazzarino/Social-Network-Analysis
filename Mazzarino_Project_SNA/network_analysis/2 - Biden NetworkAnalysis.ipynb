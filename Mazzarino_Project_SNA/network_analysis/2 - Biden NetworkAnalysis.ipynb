{
 "cells": [
  {
   "cell_type": "code",
   "execution_count": 3,
   "metadata": {},
   "outputs": [],
   "source": [
    "import os\n",
    "import pandas as pd\n",
    "import numpy as np\n",
    "import matplotlib.pyplot as plt\n",
    "import networkx as nx\n",
    "import warnings\n",
    "import powerlaw\n",
    "import matplotlib.colors as mcolors\n",
    "from operator import itemgetter\n",
    "from collections import Counter\n",
    "warnings.filterwarnings('ignore')\n",
    "import seaborn as sns\n",
    "sns.set_palette(\"Paired\")\n",
    "cmap = sns.cubehelix_palette(start=.5, rot=-.5, as_cmap=True)\n",
    "import pickle"
   ]
  },
  {
   "cell_type": "code",
   "execution_count": 4,
   "metadata": {},
   "outputs": [],
   "source": [
    "df = pd.read_csv(\"../data_collection/data_biden/df_per_grafo_pesato.csv\", skipinitialspace=True, na_values='?', keep_default_na=True)   \n"
   ]
  },
  {
   "cell_type": "code",
   "execution_count": 5,
   "metadata": {},
   "outputs": [
    {
     "data": {
      "text/html": [
       "<div>\n",
       "<style scoped>\n",
       "    .dataframe tbody tr th:only-of-type {\n",
       "        vertical-align: middle;\n",
       "    }\n",
       "\n",
       "    .dataframe tbody tr th {\n",
       "        vertical-align: top;\n",
       "    }\n",
       "\n",
       "    .dataframe thead th {\n",
       "        text-align: right;\n",
       "    }\n",
       "</style>\n",
       "<table border=\"1\" class=\"dataframe\">\n",
       "  <thead>\n",
       "    <tr style=\"text-align: right;\">\n",
       "      <th></th>\n",
       "      <th>Unnamed: 0</th>\n",
       "      <th>source</th>\n",
       "      <th>id_source</th>\n",
       "      <th>target</th>\n",
       "      <th>id_target</th>\n",
       "      <th>weights</th>\n",
       "    </tr>\n",
       "  </thead>\n",
       "  <tbody>\n",
       "    <tr>\n",
       "      <th>0</th>\n",
       "      <td>0</td>\n",
       "      <td>scienceinvestme</td>\n",
       "      <td>135970150</td>\n",
       "      <td>JoeBiden</td>\n",
       "      <td>939091</td>\n",
       "      <td>1.000000</td>\n",
       "    </tr>\n",
       "    <tr>\n",
       "      <th>1</th>\n",
       "      <td>1</td>\n",
       "      <td>elnurrik3</td>\n",
       "      <td>1172766864268832769</td>\n",
       "      <td>POTUS</td>\n",
       "      <td>1349149096909668363</td>\n",
       "      <td>0.661017</td>\n",
       "    </tr>\n",
       "    <tr>\n",
       "      <th>2</th>\n",
       "      <td>2</td>\n",
       "      <td>dmaga101</td>\n",
       "      <td>1267802238874877953</td>\n",
       "      <td>JoeBiden</td>\n",
       "      <td>939091</td>\n",
       "      <td>0.661017</td>\n",
       "    </tr>\n",
       "    <tr>\n",
       "      <th>3</th>\n",
       "      <td>3</td>\n",
       "      <td>slothsforme</td>\n",
       "      <td>3842652433</td>\n",
       "      <td>POTUS</td>\n",
       "      <td>1349149096909668363</td>\n",
       "      <td>0.491525</td>\n",
       "    </tr>\n",
       "    <tr>\n",
       "      <th>4</th>\n",
       "      <td>4</td>\n",
       "      <td>natashaejs</td>\n",
       "      <td>1262462710568022017</td>\n",
       "      <td>ProjectLincoln</td>\n",
       "      <td>1205226529455632385</td>\n",
       "      <td>0.457627</td>\n",
       "    </tr>\n",
       "    <tr>\n",
       "      <th>...</th>\n",
       "      <td>...</td>\n",
       "      <td>...</td>\n",
       "      <td>...</td>\n",
       "      <td>...</td>\n",
       "      <td>...</td>\n",
       "      <td>...</td>\n",
       "    </tr>\n",
       "    <tr>\n",
       "      <th>32434</th>\n",
       "      <td>32434</td>\n",
       "      <td>goldbaron08</td>\n",
       "      <td>2661167788</td>\n",
       "      <td>CHIZMAGA</td>\n",
       "      <td>34756550</td>\n",
       "      <td>0.000000</td>\n",
       "    </tr>\n",
       "    <tr>\n",
       "      <th>32435</th>\n",
       "      <td>32435</td>\n",
       "      <td>goldbaron08</td>\n",
       "      <td>2661167788</td>\n",
       "      <td>1JohnEBravo</td>\n",
       "      <td>973674483151237121</td>\n",
       "      <td>0.000000</td>\n",
       "    </tr>\n",
       "    <tr>\n",
       "      <th>32436</th>\n",
       "      <td>32436</td>\n",
       "      <td>goinglikesixty</td>\n",
       "      <td>126478904</td>\n",
       "      <td>kaitlancollins</td>\n",
       "      <td>180107694</td>\n",
       "      <td>0.000000</td>\n",
       "    </tr>\n",
       "    <tr>\n",
       "      <th>32437</th>\n",
       "      <td>32437</td>\n",
       "      <td>goinglikesixty</td>\n",
       "      <td>126478904</td>\n",
       "      <td>carolstam7</td>\n",
       "      <td>326098537</td>\n",
       "      <td>0.000000</td>\n",
       "    </tr>\n",
       "    <tr>\n",
       "      <th>32438</th>\n",
       "      <td>32438</td>\n",
       "      <td>zungumuza</td>\n",
       "      <td>3083023038</td>\n",
       "      <td>IPBES</td>\n",
       "      <td>140137815</td>\n",
       "      <td>0.000000</td>\n",
       "    </tr>\n",
       "  </tbody>\n",
       "</table>\n",
       "<p>32439 rows × 6 columns</p>\n",
       "</div>"
      ],
      "text/plain": [
       "       Unnamed: 0           source            id_source          target  \\\n",
       "0               0  scienceinvestme            135970150        JoeBiden   \n",
       "1               1        elnurrik3  1172766864268832769           POTUS   \n",
       "2               2         dmaga101  1267802238874877953        JoeBiden   \n",
       "3               3      slothsforme           3842652433           POTUS   \n",
       "4               4       natashaejs  1262462710568022017  ProjectLincoln   \n",
       "...           ...              ...                  ...             ...   \n",
       "32434       32434      goldbaron08           2661167788        CHIZMAGA   \n",
       "32435       32435      goldbaron08           2661167788     1JohnEBravo   \n",
       "32436       32436   goinglikesixty            126478904  kaitlancollins   \n",
       "32437       32437   goinglikesixty            126478904      carolstam7   \n",
       "32438       32438        zungumuza           3083023038           IPBES   \n",
       "\n",
       "                 id_target   weights  \n",
       "0                   939091  1.000000  \n",
       "1      1349149096909668363  0.661017  \n",
       "2                   939091  0.661017  \n",
       "3      1349149096909668363  0.491525  \n",
       "4      1205226529455632385  0.457627  \n",
       "...                    ...       ...  \n",
       "32434             34756550  0.000000  \n",
       "32435   973674483151237121  0.000000  \n",
       "32436            180107694  0.000000  \n",
       "32437            326098537  0.000000  \n",
       "32438            140137815  0.000000  \n",
       "\n",
       "[32439 rows x 6 columns]"
      ]
     },
     "execution_count": 5,
     "metadata": {},
     "output_type": "execute_result"
    }
   ],
   "source": [
    "df"
   ]
  },
  {
   "cell_type": "code",
   "execution_count": 6,
   "metadata": {},
   "outputs": [],
   "source": [
    "del df['Unnamed: 0']\n",
    "del df['id_source']\n",
    "del df['id_target']"
   ]
  },
  {
   "cell_type": "code",
   "execution_count": 7,
   "metadata": {},
   "outputs": [
    {
     "data": {
      "text/html": [
       "<div>\n",
       "<style scoped>\n",
       "    .dataframe tbody tr th:only-of-type {\n",
       "        vertical-align: middle;\n",
       "    }\n",
       "\n",
       "    .dataframe tbody tr th {\n",
       "        vertical-align: top;\n",
       "    }\n",
       "\n",
       "    .dataframe thead th {\n",
       "        text-align: right;\n",
       "    }\n",
       "</style>\n",
       "<table border=\"1\" class=\"dataframe\">\n",
       "  <thead>\n",
       "    <tr style=\"text-align: right;\">\n",
       "      <th></th>\n",
       "      <th>source</th>\n",
       "      <th>target</th>\n",
       "      <th>weights</th>\n",
       "    </tr>\n",
       "  </thead>\n",
       "  <tbody>\n",
       "    <tr>\n",
       "      <th>0</th>\n",
       "      <td>scienceinvestme</td>\n",
       "      <td>JoeBiden</td>\n",
       "      <td>1.000000</td>\n",
       "    </tr>\n",
       "    <tr>\n",
       "      <th>1</th>\n",
       "      <td>elnurrik3</td>\n",
       "      <td>POTUS</td>\n",
       "      <td>0.661017</td>\n",
       "    </tr>\n",
       "    <tr>\n",
       "      <th>2</th>\n",
       "      <td>dmaga101</td>\n",
       "      <td>JoeBiden</td>\n",
       "      <td>0.661017</td>\n",
       "    </tr>\n",
       "    <tr>\n",
       "      <th>3</th>\n",
       "      <td>slothsforme</td>\n",
       "      <td>POTUS</td>\n",
       "      <td>0.491525</td>\n",
       "    </tr>\n",
       "    <tr>\n",
       "      <th>4</th>\n",
       "      <td>natashaejs</td>\n",
       "      <td>ProjectLincoln</td>\n",
       "      <td>0.457627</td>\n",
       "    </tr>\n",
       "    <tr>\n",
       "      <th>...</th>\n",
       "      <td>...</td>\n",
       "      <td>...</td>\n",
       "      <td>...</td>\n",
       "    </tr>\n",
       "    <tr>\n",
       "      <th>32434</th>\n",
       "      <td>goldbaron08</td>\n",
       "      <td>CHIZMAGA</td>\n",
       "      <td>0.000000</td>\n",
       "    </tr>\n",
       "    <tr>\n",
       "      <th>32435</th>\n",
       "      <td>goldbaron08</td>\n",
       "      <td>1JohnEBravo</td>\n",
       "      <td>0.000000</td>\n",
       "    </tr>\n",
       "    <tr>\n",
       "      <th>32436</th>\n",
       "      <td>goinglikesixty</td>\n",
       "      <td>kaitlancollins</td>\n",
       "      <td>0.000000</td>\n",
       "    </tr>\n",
       "    <tr>\n",
       "      <th>32437</th>\n",
       "      <td>goinglikesixty</td>\n",
       "      <td>carolstam7</td>\n",
       "      <td>0.000000</td>\n",
       "    </tr>\n",
       "    <tr>\n",
       "      <th>32438</th>\n",
       "      <td>zungumuza</td>\n",
       "      <td>IPBES</td>\n",
       "      <td>0.000000</td>\n",
       "    </tr>\n",
       "  </tbody>\n",
       "</table>\n",
       "<p>32439 rows × 3 columns</p>\n",
       "</div>"
      ],
      "text/plain": [
       "                source          target   weights\n",
       "0      scienceinvestme        JoeBiden  1.000000\n",
       "1            elnurrik3           POTUS  0.661017\n",
       "2             dmaga101        JoeBiden  0.661017\n",
       "3          slothsforme           POTUS  0.491525\n",
       "4           natashaejs  ProjectLincoln  0.457627\n",
       "...                ...             ...       ...\n",
       "32434      goldbaron08        CHIZMAGA  0.000000\n",
       "32435      goldbaron08     1JohnEBravo  0.000000\n",
       "32436   goinglikesixty  kaitlancollins  0.000000\n",
       "32437   goinglikesixty      carolstam7  0.000000\n",
       "32438        zungumuza           IPBES  0.000000\n",
       "\n",
       "[32439 rows x 3 columns]"
      ]
     },
     "execution_count": 7,
     "metadata": {},
     "output_type": "execute_result"
    }
   ],
   "source": [
    "df"
   ]
  },
  {
   "cell_type": "code",
   "execution_count": 8,
   "metadata": {},
   "outputs": [],
   "source": [
    "df.source = df.source.astype(str)\n",
    "df.target = df.target.astype(str)\n",
    "\n",
    "g = nx.from_pandas_edgelist(df, source=\"source\", target = \"target\", create_using=nx.MultiDiGraph(), edge_attr = \"weights\")\n",
    "\n",
    "#coverto il grafo diretto in indiretto\n",
    "\n",
    "g = g.to_undirected() #multigrafo (più collegamenti tra gli stessi nodi)\n",
    "g_cc = nx.Graph(g) #grafo (un solo collegamento)"
   ]
  },
  {
   "cell_type": "code",
   "execution_count": 9,
   "metadata": {},
   "outputs": [
    {
     "name": "stdout",
     "output_type": "stream",
     "text": [
      "Name: \n",
      "Type: MultiGraph\n",
      "Number of nodes: 22737\n",
      "Number of edges: 32438\n",
      "Average degree:   2.8533\n",
      "Name: \n",
      "Type: Graph\n",
      "Number of nodes: 22737\n",
      "Number of edges: 32438\n",
      "Average degree:   2.8533\n"
     ]
    }
   ],
   "source": [
    "print(nx.info(g))\n",
    "print(nx.info(g_cc))"
   ]
  },
  {
   "cell_type": "code",
   "execution_count": 10,
   "metadata": {},
   "outputs": [],
   "source": [
    "#saving the graph for gephi viz\n",
    "nx.write_gexf(g, \"grafoBiden.gexf\")"
   ]
  },
  {
   "cell_type": "markdown",
   "metadata": {},
   "source": [
    "## Basic Measures"
   ]
  },
  {
   "cell_type": "code",
   "execution_count": 186,
   "metadata": {},
   "outputs": [
    {
     "data": {
      "text/plain": [
       "22737"
      ]
     },
     "execution_count": 186,
     "metadata": {},
     "output_type": "execute_result"
    }
   ],
   "source": [
    "g.number_of_nodes()"
   ]
  },
  {
   "cell_type": "code",
   "execution_count": 187,
   "metadata": {},
   "outputs": [
    {
     "data": {
      "text/plain": [
       "32438"
      ]
     },
     "execution_count": 187,
     "metadata": {},
     "output_type": "execute_result"
    }
   ],
   "source": [
    "g.number_of_edges()"
   ]
  },
  {
   "cell_type": "code",
   "execution_count": 188,
   "metadata": {},
   "outputs": [
    {
     "data": {
      "text/plain": [
       "False"
      ]
     },
     "execution_count": 188,
     "metadata": {},
     "output_type": "execute_result"
    }
   ],
   "source": [
    "g.is_directed()"
   ]
  },
  {
   "cell_type": "code",
   "execution_count": 189,
   "metadata": {},
   "outputs": [
    {
     "data": {
      "text/plain": [
       "0"
      ]
     },
     "execution_count": 189,
     "metadata": {},
     "output_type": "execute_result"
    }
   ],
   "source": [
    "nx.number_of_selfloops(g)"
   ]
  },
  {
   "cell_type": "code",
   "execution_count": 190,
   "metadata": {},
   "outputs": [
    {
     "data": {
      "text/plain": [
       "2.85332277785108"
      ]
     },
     "execution_count": 190,
     "metadata": {},
     "output_type": "execute_result"
    }
   ],
   "source": [
    "#Average Degree\n",
    "sum(dict(g.degree()).values())/float(len(g))"
   ]
  },
  {
   "cell_type": "code",
   "execution_count": 191,
   "metadata": {},
   "outputs": [],
   "source": [
    "def find_hubs(G, degree_threshold):\n",
    "    '''Function for extracting hubs and not hubs from the network'''\n",
    "    hubs = []\n",
    "    notHubs = []\n",
    "    for i in G:\n",
    "        if G.degree(i) >= degree_threshold:\n",
    "            tupla = tuple([i, G.degree(i)])\n",
    "            hubs.append(tupla)\n",
    "        else:\n",
    "            tupla = tuple([i, G.degree(i)])\n",
    "            notHubs.append(tupla)\n",
    "    print(len(hubs))\n",
    "    print(hubs)\n",
    "    return hubs, notHubs"
   ]
  },
  {
   "cell_type": "code",
   "execution_count": 192,
   "metadata": {},
   "outputs": [
    {
     "name": "stdout",
     "output_type": "stream",
     "text": [
      "42\n",
      "[('JoeBiden', 1314), ('POTUS', 487), ('ProjectLincoln', 106), ('realDonaldTrump', 1046), ('nytimes', 93), ('theliberalpov', 81), ('jphoganorg', 83), ('VP', 87), ('HillaryClinton', 83), ('BernieSanders', 207), ('KamalaHarris', 175), ('irvinepmaicon', 120), ('dcfairbank', 177), ('CNN', 180), ('blesamerica', 195), ('GOP', 160), ('letshearthetru', 136), ('FoxNews', 145), ('WhiteHouse', 166), ('mstmo1983', 108), ('BarackObama', 111), ('moogoo3544', 111), ('thehill', 254), ('seanhannity', 90), ('mark3ds', 137), ('expose_ccp', 87), ('miksu2006', 94), ('SpeakerPelosi', 91), ('lorirennie', 91), ('ozbatrisa', 149), ('DonaldJTrumpJr', 113), ('MSNBC', 155), ('fabfashionista8', 88), ('washingtonpost', 83), ('312shelly3', 81), ('ewarren', 86), ('ABC', 95), ('garygreno', 81), ('big_crusher1000', 106), ('seanrohan32', 112), ('butchornile', 87), ('cokogay', 96)]\n"
     ]
    }
   ],
   "source": [
    "hubs, notHubs = find_hubs(g, 80)"
   ]
  },
  {
   "cell_type": "code",
   "execution_count": 193,
   "metadata": {},
   "outputs": [],
   "source": [
    "df_hubs = pd.DataFrame(hubs, columns=['User', 'Degree'])"
   ]
  },
  {
   "cell_type": "code",
   "execution_count": 194,
   "metadata": {},
   "outputs": [],
   "source": [
    "df_hubs = df_hubs.sort_values(by = ['Degree'], ascending = False)\n",
    "df_hubs = df_hubs.reset_index(drop = True)"
   ]
  },
  {
   "cell_type": "code",
   "execution_count": 195,
   "metadata": {},
   "outputs": [],
   "source": [
    "df_hubs_10 = df_hubs.iloc[:11]"
   ]
  },
  {
   "cell_type": "code",
   "execution_count": 196,
   "metadata": {},
   "outputs": [
    {
     "data": {
      "text/html": [
       "<div>\n",
       "<style scoped>\n",
       "    .dataframe tbody tr th:only-of-type {\n",
       "        vertical-align: middle;\n",
       "    }\n",
       "\n",
       "    .dataframe tbody tr th {\n",
       "        vertical-align: top;\n",
       "    }\n",
       "\n",
       "    .dataframe thead th {\n",
       "        text-align: right;\n",
       "    }\n",
       "</style>\n",
       "<table border=\"1\" class=\"dataframe\">\n",
       "  <thead>\n",
       "    <tr style=\"text-align: right;\">\n",
       "      <th></th>\n",
       "      <th>User</th>\n",
       "      <th>Degree</th>\n",
       "    </tr>\n",
       "  </thead>\n",
       "  <tbody>\n",
       "    <tr>\n",
       "      <th>0</th>\n",
       "      <td>JoeBiden</td>\n",
       "      <td>1314</td>\n",
       "    </tr>\n",
       "    <tr>\n",
       "      <th>1</th>\n",
       "      <td>realDonaldTrump</td>\n",
       "      <td>1046</td>\n",
       "    </tr>\n",
       "    <tr>\n",
       "      <th>2</th>\n",
       "      <td>POTUS</td>\n",
       "      <td>487</td>\n",
       "    </tr>\n",
       "    <tr>\n",
       "      <th>3</th>\n",
       "      <td>thehill</td>\n",
       "      <td>254</td>\n",
       "    </tr>\n",
       "    <tr>\n",
       "      <th>4</th>\n",
       "      <td>BernieSanders</td>\n",
       "      <td>207</td>\n",
       "    </tr>\n",
       "    <tr>\n",
       "      <th>5</th>\n",
       "      <td>blesamerica</td>\n",
       "      <td>195</td>\n",
       "    </tr>\n",
       "    <tr>\n",
       "      <th>6</th>\n",
       "      <td>CNN</td>\n",
       "      <td>180</td>\n",
       "    </tr>\n",
       "    <tr>\n",
       "      <th>7</th>\n",
       "      <td>dcfairbank</td>\n",
       "      <td>177</td>\n",
       "    </tr>\n",
       "    <tr>\n",
       "      <th>8</th>\n",
       "      <td>KamalaHarris</td>\n",
       "      <td>175</td>\n",
       "    </tr>\n",
       "    <tr>\n",
       "      <th>9</th>\n",
       "      <td>WhiteHouse</td>\n",
       "      <td>166</td>\n",
       "    </tr>\n",
       "    <tr>\n",
       "      <th>10</th>\n",
       "      <td>GOP</td>\n",
       "      <td>160</td>\n",
       "    </tr>\n",
       "  </tbody>\n",
       "</table>\n",
       "</div>"
      ],
      "text/plain": [
       "               User  Degree\n",
       "0          JoeBiden    1314\n",
       "1   realDonaldTrump    1046\n",
       "2             POTUS     487\n",
       "3           thehill     254\n",
       "4     BernieSanders     207\n",
       "5       blesamerica     195\n",
       "6               CNN     180\n",
       "7        dcfairbank     177\n",
       "8      KamalaHarris     175\n",
       "9        WhiteHouse     166\n",
       "10              GOP     160"
      ]
     },
     "execution_count": 196,
     "metadata": {},
     "output_type": "execute_result"
    }
   ],
   "source": [
    "df_hubs_10\n",
    "#POTUS è l'account del presidente degli stati uniti d'america\n",
    "#GOP è del partito repubblicano\n",
    "#"
   ]
  },
  {
   "cell_type": "code",
   "execution_count": 197,
   "metadata": {},
   "outputs": [
    {
     "data": {
      "image/png": "[encoded data removed]",
      "text/plain": [
       "<Figure size 720x432 with 1 Axes>"
      ]
     },
     "metadata": {},
     "output_type": "display_data"
    }
   ],
   "source": [
    "plt.rcParams[\"figure.figsize\"]=[10,6]\n",
    "sns.set_style(\"darkgrid\")\n",
    "sns.barplot(x= \"Degree\", y = \"User\", data= df_hubs_10, color = \"#497bdf\", )\n",
    "plt.title(\"Top 10 hubs\")\n",
    "plt.xlabel(\"Degree\")\n",
    "plt.ylabel(\"Hub\")\n",
    "plt.show()"
   ]
  },
  {
   "cell_type": "markdown",
   "metadata": {},
   "source": [
    "## Degree Distribution"
   ]
  },
  {
   "cell_type": "code",
   "execution_count": 198,
   "metadata": {},
   "outputs": [
    {
     "data": {
      "image/png": "[encoded data removed]",
      "text/plain": [
       "<Figure size 720x432 with 1 Axes>"
      ]
     },
     "metadata": {},
     "output_type": "display_data"
    }
   ],
   "source": [
    "hist = nx.degree_histogram(g)\n",
    "    \n",
    "plt.plot(range(0, len(hist)), hist, \".\", color = '#497bdf')\n",
    "plt.title(\"Degree Distribution\")\n",
    "plt.xlabel(\"Degree\")\n",
    "plt.ylabel(\"#Nodes\")\n",
    "plt.loglog()\n",
    "plt.show()"
   ]
  },
  {
   "cell_type": "code",
   "execution_count": 199,
   "metadata": {},
   "outputs": [],
   "source": [
    "def plot_dist(G):\n",
    "    M = nx.to_scipy_sparse_matrix(G)\n",
    "    xmin = min([d[1] for d in G.degree()])\n",
    "    indegrees = M.sum(0).A[0]\n",
    "    degree = np.bincount(indegrees)\n",
    "    fit = powerlaw.Fit(np.array(degree)+1, fit_method='KS')#, xmin=xmin, xmax=max(degree)-xmin,discrete=True)\n",
    "    \n",
    "    \n",
    "    fig = plt.figure(figsize=(16, 6)) \n",
    "    \"\"\" Plot Distribution \"\"\"\n",
    "    plt.subplot(1, 3, 1)\n",
    "    plt.plot(range(len(degree)),degree,'b.')   \n",
    "    plt.loglog()\n",
    "    plt.xlim((min(degree), max(degree)))\n",
    "    plt.xlabel('Degree')\n",
    "    plt.ylabel('P(k)')\n",
    "\n",
    "\n",
    "    \"\"\" Plot CDF \"\"\" \n",
    "    #cumulative density function\n",
    "    plt.subplot(1, 3, 2)\n",
    "    fit.plot_cdf()\n",
    "    plt.xlabel(\"Degree\")\n",
    "    plt.ylabel('CDF')\n",
    "\n",
    "    \"\"\" Plot CCDF \"\"\"\n",
    "    #complementary cumulative density function\n",
    "    plt.subplot(1, 3, 3)\n",
    "    fit.plot_ccdf()\n",
    "    plt.ylabel('CCDF')\n",
    "    plt.xlabel('Degree')\n",
    "    plt.tight_layout()\n",
    "    plt.show()"
   ]
  },
  {
   "cell_type": "code",
   "execution_count": 200,
   "metadata": {},
   "outputs": [
    {
     "name": "stdout",
     "output_type": "stream",
     "text": [
      "Calculating best minimal value for power law fit\n",
      "xmin progress: 00%\r",
      "xmin progress: 02%\r",
      "xmin progress: 05%\r",
      "xmin progress: 08%\r",
      "xmin progress: 11%\r",
      "xmin progress: 14%\r",
      "xmin progress: 17%\r",
      "xmin progress: 20%\r",
      "xmin progress: 23%\r",
      "xmin progress: 26%\r",
      "xmin progress: 29%\r",
      "xmin progress: 32%\r",
      "xmin progress: 35%\r",
      "xmin progress: 38%\r",
      "xmin progress: 41%\r",
      "xmin progress: 44%\r",
      "xmin progress: 47%\r",
      "xmin progress: 50%\r",
      "xmin progress: 52%\r",
      "xmin progress: 55%\r",
      "xmin progress: 58%\r",
      "xmin progress: 61%\r",
      "xmin progress: 64%\r",
      "xmin progress: 67%\r",
      "xmin progress: 70%\r",
      "xmin progress: 73%\r",
      "xmin progress: 76%\r",
      "xmin progress: 79%\r",
      "xmin progress: 82%\r",
      "xmin progress: 85%\r",
      "xmin progress: 88%\r",
      "xmin progress: 91%\r",
      "xmin progress: 94%\r",
      "xmin progress: 97%\r"
     ]
    },
    {
     "data": {
      "image/png": "[encoded data removed]",
      "text/plain": [
       "<Figure size 1152x432 with 3 Axes>"
      ]
     },
     "metadata": {},
     "output_type": "display_data"
    }
   ],
   "source": [
    "plot_dist(g)"
   ]
  },
  {
   "cell_type": "markdown",
   "metadata": {},
   "source": [
    "## Components Analysis"
   ]
  },
  {
   "cell_type": "code",
   "execution_count": 232,
   "metadata": {},
   "outputs": [
    {
     "name": "stdout",
     "output_type": "stream",
     "text": [
      "Number of connected components:  1182\n"
     ]
    }
   ],
   "source": [
    "comps = list(nx.connected_components(g))\n",
    "print(\"Number of connected components: \", len(comps))\n"
   ]
  },
  {
   "cell_type": "code",
   "execution_count": 202,
   "metadata": {},
   "outputs": [],
   "source": [
    "comps_sorted = sorted(comps, key=len, reverse = True) \n",
    "#per capire qual è il giant component li ordino dal più grande al più piccolo\n"
   ]
  },
  {
   "cell_type": "code",
   "execution_count": 203,
   "metadata": {},
   "outputs": [
    {
     "name": "stdout",
     "output_type": "stream",
     "text": [
      "Number of nodes/users in the biggest connected component:  19675\n"
     ]
    }
   ],
   "source": [
    "print(\"Number of nodes/users in the biggest connected component: \", len(max(comps_sorted)))"
   ]
  },
  {
   "cell_type": "code",
   "execution_count": 204,
   "metadata": {},
   "outputs": [
    {
     "name": "stdout",
     "output_type": "stream",
     "text": [
      "Number of nodes/users in the second biggest connected component:  24\n"
     ]
    }
   ],
   "source": [
    "print(\"Number of nodes/users in the second biggest connected component: \", len(comps_sorted[1]))"
   ]
  },
  {
   "cell_type": "code",
   "execution_count": 205,
   "metadata": {},
   "outputs": [],
   "source": [
    "biggest_comp = nx.Graph()\n",
    "biggest_comp_cc = nx.subgraph(g, comps_sorted[0]) "
   ]
  },
  {
   "cell_type": "code",
   "execution_count": 263,
   "metadata": {},
   "outputs": [],
   "source": [
    "nx.write_gexf(biggest_comp_cc, \"Biden_biggest_comp_cc.gexf\")"
   ]
  },
  {
   "cell_type": "markdown",
   "metadata": {},
   "source": [
    "## Diameter and Path"
   ]
  },
  {
   "cell_type": "code",
   "execution_count": 210,
   "metadata": {},
   "outputs": [
    {
     "name": "stdout",
     "output_type": "stream",
     "text": [
      "The diameter of the graph is:  15\n"
     ]
    }
   ],
   "source": [
    "#diameter: the maximum distance between any pair of nodes in the graph\n",
    "#maximal shortest path\n",
    "\n",
    "\n",
    "\n",
    "diameter = nx.diameter(g.subgraph(comps[0]))\n",
    "print (\"The diameter of the graph is: \", diameter) "
   ]
  },
  {
   "cell_type": "code",
   "execution_count": 211,
   "metadata": {},
   "outputs": [
    {
     "name": "stdout",
     "output_type": "stream",
     "text": [
      "Average shortest path (g): 5.229745838101331\n",
      "Average shortest path weighted (g): 5.229745838101331\n"
     ]
    }
   ],
   "source": [
    "#average distance in the giant component\n",
    "print(\"Average shortest path (g):\", nx.average_shortest_path_length(g.subgraph(comps_sorted[0])))\n",
    "print(\"Average shortest path weighted (g):\", nx.average_shortest_path_length(g.subgraph(comps_sorted[0]), weight='weight'))"
   ]
  },
  {
   "cell_type": "code",
   "execution_count": 212,
   "metadata": {},
   "outputs": [
    {
     "data": {
      "text/plain": [
       "3.1060736975857686"
      ]
     },
     "execution_count": 212,
     "metadata": {},
     "output_type": "execute_result"
    }
   ],
   "source": [
    "#Average degree giant component\n",
    "sum(dict(g.subgraph(comps_sorted[0]).degree()).values())/float(len(g.subgraph(comps_sorted[0])))"
   ]
  },
  {
   "cell_type": "markdown",
   "metadata": {},
   "source": [
    "## Triangles, density and clustering"
   ]
  },
  {
   "cell_type": "code",
   "execution_count": 213,
   "metadata": {},
   "outputs": [
    {
     "data": {
      "text/plain": [
       "0.00012549801098922763"
      ]
     },
     "execution_count": 213,
     "metadata": {},
     "output_type": "execute_result"
    }
   ],
   "source": [
    "#rete sparsa\n",
    "nx.density(g)"
   ]
  },
  {
   "cell_type": "code",
   "execution_count": 225,
   "metadata": {
    "scrolled": true
   },
   "outputs": [
    {
     "data": {
      "text/plain": [
       "0.001601181565265985"
      ]
     },
     "execution_count": 225,
     "metadata": {},
     "output_type": "execute_result"
    }
   ],
   "source": [
    "nx.average_clustering(g_cc)"
   ]
  },
  {
   "cell_type": "code",
   "execution_count": 233,
   "metadata": {},
   "outputs": [
    {
     "data": {
      "text/plain": [
       "33"
      ]
     },
     "execution_count": 233,
     "metadata": {},
     "output_type": "execute_result"
    }
   ],
   "source": [
    "nx.triangles(g_cc)['JoeBiden'] #count the triangles each node is involved in (and access the value of node JoeBiden)"
   ]
  },
  {
   "cell_type": "markdown",
   "metadata": {},
   "source": [
    "# Centrality measures"
   ]
  },
  {
   "cell_type": "markdown",
   "metadata": {},
   "source": [
    "### Degree Centrality\n",
    "How many neighbors does a node have?"
   ]
  },
  {
   "cell_type": "code",
   "execution_count": 239,
   "metadata": {},
   "outputs": [],
   "source": [
    "degrees = dict(g.degree())"
   ]
  },
  {
   "cell_type": "code",
   "execution_count": 240,
   "metadata": {},
   "outputs": [
    {
     "data": {
      "text/plain": [
       "[('JoeBiden', 1314),\n",
       " ('realDonaldTrump', 1046),\n",
       " ('POTUS', 487),\n",
       " ('thehill', 254),\n",
       " ('BernieSanders', 207)]"
      ]
     },
     "execution_count": 240,
     "metadata": {},
     "output_type": "execute_result"
    }
   ],
   "source": [
    "ranks = [(k, v) for k, v in sorted(degrees.items(), key=lambda item: -item[1])]\n",
    "ranks[0:5]"
   ]
  },
  {
   "cell_type": "code",
   "execution_count": 244,
   "metadata": {},
   "outputs": [],
   "source": [
    "df_degreeCentrality = pd.DataFrame(ranks, columns=['User', 'Degree'])"
   ]
  },
  {
   "cell_type": "code",
   "execution_count": 245,
   "metadata": {},
   "outputs": [
    {
     "data": {
      "text/html": [
       "<div>\n",
       "<style scoped>\n",
       "    .dataframe tbody tr th:only-of-type {\n",
       "        vertical-align: middle;\n",
       "    }\n",
       "\n",
       "    .dataframe tbody tr th {\n",
       "        vertical-align: top;\n",
       "    }\n",
       "\n",
       "    .dataframe thead th {\n",
       "        text-align: right;\n",
       "    }\n",
       "</style>\n",
       "<table border=\"1\" class=\"dataframe\">\n",
       "  <thead>\n",
       "    <tr style=\"text-align: right;\">\n",
       "      <th></th>\n",
       "      <th>User</th>\n",
       "      <th>Degree</th>\n",
       "    </tr>\n",
       "  </thead>\n",
       "  <tbody>\n",
       "    <tr>\n",
       "      <th>0</th>\n",
       "      <td>JoeBiden</td>\n",
       "      <td>1314</td>\n",
       "    </tr>\n",
       "    <tr>\n",
       "      <th>1</th>\n",
       "      <td>realDonaldTrump</td>\n",
       "      <td>1046</td>\n",
       "    </tr>\n",
       "    <tr>\n",
       "      <th>2</th>\n",
       "      <td>POTUS</td>\n",
       "      <td>487</td>\n",
       "    </tr>\n",
       "    <tr>\n",
       "      <th>3</th>\n",
       "      <td>thehill</td>\n",
       "      <td>254</td>\n",
       "    </tr>\n",
       "    <tr>\n",
       "      <th>4</th>\n",
       "      <td>BernieSanders</td>\n",
       "      <td>207</td>\n",
       "    </tr>\n",
       "    <tr>\n",
       "      <th>...</th>\n",
       "      <td>...</td>\n",
       "      <td>...</td>\n",
       "    </tr>\n",
       "    <tr>\n",
       "      <th>22732</th>\n",
       "      <td>goldena33430596</td>\n",
       "      <td>1</td>\n",
       "    </tr>\n",
       "    <tr>\n",
       "      <th>22733</th>\n",
       "      <td>goldbergreaz</td>\n",
       "      <td>1</td>\n",
       "    </tr>\n",
       "    <tr>\n",
       "      <th>22734</th>\n",
       "      <td>1JohnEBravo</td>\n",
       "      <td>1</td>\n",
       "    </tr>\n",
       "    <tr>\n",
       "      <th>22735</th>\n",
       "      <td>carolstam7</td>\n",
       "      <td>1</td>\n",
       "    </tr>\n",
       "    <tr>\n",
       "      <th>22736</th>\n",
       "      <td>IPBES</td>\n",
       "      <td>1</td>\n",
       "    </tr>\n",
       "  </tbody>\n",
       "</table>\n",
       "<p>22737 rows × 2 columns</p>\n",
       "</div>"
      ],
      "text/plain": [
       "                  User  Degree\n",
       "0             JoeBiden    1314\n",
       "1      realDonaldTrump    1046\n",
       "2                POTUS     487\n",
       "3              thehill     254\n",
       "4        BernieSanders     207\n",
       "...                ...     ...\n",
       "22732  goldena33430596       1\n",
       "22733     goldbergreaz       1\n",
       "22734      1JohnEBravo       1\n",
       "22735       carolstam7       1\n",
       "22736            IPBES       1\n",
       "\n",
       "[22737 rows x 2 columns]"
      ]
     },
     "execution_count": 245,
     "metadata": {},
     "output_type": "execute_result"
    }
   ],
   "source": [
    "df_degreeCentrality"
   ]
  },
  {
   "cell_type": "code",
   "execution_count": 246,
   "metadata": {},
   "outputs": [],
   "source": [
    "df_dC_10 = df_degreeCentrality.iloc[:11]"
   ]
  },
  {
   "cell_type": "code",
   "execution_count": 250,
   "metadata": {},
   "outputs": [
    {
     "data": {
      "image/png": "[encoded data removed]",
      "text/plain": [
       "<Figure size 720x432 with 1 Axes>"
      ]
     },
     "metadata": {},
     "output_type": "display_data"
    }
   ],
   "source": [
    "plt.rcParams[\"figure.figsize\"]=[10,6]\n",
    "sns.set_style(\"darkgrid\")\n",
    "sns.barplot(x= \"Degree\", y = \"User\", data= df_dC_10, color = \"darkcyan\", )\n",
    "plt.title(\"Top 10 nodes for Degree Centrality\")\n",
    "plt.xlabel(\"Centrality Score\")\n",
    "plt.ylabel(\"Nodes\")\n",
    "plt.show()"
   ]
  },
  {
   "cell_type": "markdown",
   "metadata": {},
   "source": [
    "## Geometric Centralities\n",
    "l’idea per cui l’importanza di un nodo dipenda dalle distanze rispetto agli altri nodi"
   ]
  },
  {
   "cell_type": "markdown",
   "metadata": {},
   "source": [
    "### Closeness Centrality\n",
    "Farness: average of length of shortest paths to all other nodes\n",
    "Closeness: inverse of the Farness (normalized by number of nodes)\n",
    "\n",
    "Più la media degli shortest path è bassa più il nodo è centrale, più è alta più è periferico"
   ]
  },
  {
   "cell_type": "code",
   "execution_count": 251,
   "metadata": {},
   "outputs": [],
   "source": [
    "closeness = nx.closeness_centrality(g) # compute the closeness centrality of all nodes "
   ]
  },
  {
   "cell_type": "code",
   "execution_count": 252,
   "metadata": {},
   "outputs": [
    {
     "data": {
      "text/plain": [
       "[('JoeBiden', 0.28153429440296845),\n",
       " ('realDonaldTrump', 0.2632703747397742),\n",
       " ('blesamerica', 0.26104604364799283),\n",
       " ('irvinepmaicon', 0.256553524556911),\n",
       " ('jphoganorg', 0.2503401041474524)]"
      ]
     },
     "execution_count": 252,
     "metadata": {},
     "output_type": "execute_result"
    }
   ],
   "source": [
    "ranks = [(k, v) for k, v in sorted(closeness.items(), key=lambda item: -item[1])]\n",
    "ranks[0:5]"
   ]
  },
  {
   "cell_type": "code",
   "execution_count": 253,
   "metadata": {},
   "outputs": [],
   "source": [
    "df_ClosenessCentrality = pd.DataFrame(ranks, columns=['User', 'Degree'])"
   ]
  },
  {
   "cell_type": "code",
   "execution_count": 254,
   "metadata": {},
   "outputs": [
    {
     "data": {
      "text/html": [
       "<div>\n",
       "<style scoped>\n",
       "    .dataframe tbody tr th:only-of-type {\n",
       "        vertical-align: middle;\n",
       "    }\n",
       "\n",
       "    .dataframe tbody tr th {\n",
       "        vertical-align: top;\n",
       "    }\n",
       "\n",
       "    .dataframe thead th {\n",
       "        text-align: right;\n",
       "    }\n",
       "</style>\n",
       "<table border=\"1\" class=\"dataframe\">\n",
       "  <thead>\n",
       "    <tr style=\"text-align: right;\">\n",
       "      <th></th>\n",
       "      <th>User</th>\n",
       "      <th>Degree</th>\n",
       "    </tr>\n",
       "  </thead>\n",
       "  <tbody>\n",
       "    <tr>\n",
       "      <th>0</th>\n",
       "      <td>JoeBiden</td>\n",
       "      <td>0.281534</td>\n",
       "    </tr>\n",
       "    <tr>\n",
       "      <th>1</th>\n",
       "      <td>realDonaldTrump</td>\n",
       "      <td>0.263270</td>\n",
       "    </tr>\n",
       "    <tr>\n",
       "      <th>2</th>\n",
       "      <td>blesamerica</td>\n",
       "      <td>0.261046</td>\n",
       "    </tr>\n",
       "    <tr>\n",
       "      <th>3</th>\n",
       "      <td>irvinepmaicon</td>\n",
       "      <td>0.256554</td>\n",
       "    </tr>\n",
       "    <tr>\n",
       "      <th>4</th>\n",
       "      <td>jphoganorg</td>\n",
       "      <td>0.250340</td>\n",
       "    </tr>\n",
       "    <tr>\n",
       "      <th>...</th>\n",
       "      <td>...</td>\n",
       "      <td>...</td>\n",
       "    </tr>\n",
       "    <tr>\n",
       "      <th>22732</th>\n",
       "      <td>pam44912308</td>\n",
       "      <td>0.000044</td>\n",
       "    </tr>\n",
       "    <tr>\n",
       "      <th>22733</th>\n",
       "      <td>glynndems</td>\n",
       "      <td>0.000044</td>\n",
       "    </tr>\n",
       "    <tr>\n",
       "      <th>22734</th>\n",
       "      <td>SarahRiggsAmico</td>\n",
       "      <td>0.000044</td>\n",
       "    </tr>\n",
       "    <tr>\n",
       "      <th>22735</th>\n",
       "      <td>gmouryas</td>\n",
       "      <td>0.000044</td>\n",
       "    </tr>\n",
       "    <tr>\n",
       "      <th>22736</th>\n",
       "      <td>cjtruth</td>\n",
       "      <td>0.000044</td>\n",
       "    </tr>\n",
       "  </tbody>\n",
       "</table>\n",
       "<p>22737 rows × 2 columns</p>\n",
       "</div>"
      ],
      "text/plain": [
       "                  User    Degree\n",
       "0             JoeBiden  0.281534\n",
       "1      realDonaldTrump  0.263270\n",
       "2          blesamerica  0.261046\n",
       "3        irvinepmaicon  0.256554\n",
       "4           jphoganorg  0.250340\n",
       "...                ...       ...\n",
       "22732      pam44912308  0.000044\n",
       "22733        glynndems  0.000044\n",
       "22734  SarahRiggsAmico  0.000044\n",
       "22735         gmouryas  0.000044\n",
       "22736          cjtruth  0.000044\n",
       "\n",
       "[22737 rows x 2 columns]"
      ]
     },
     "execution_count": 254,
     "metadata": {},
     "output_type": "execute_result"
    }
   ],
   "source": [
    "df_ClosenessCentrality"
   ]
  },
  {
   "cell_type": "code",
   "execution_count": 257,
   "metadata": {},
   "outputs": [],
   "source": [
    "df_CC_10 = df_ClosenessCentrality.iloc[:11]"
   ]
  },
  {
   "cell_type": "code",
   "execution_count": 259,
   "metadata": {},
   "outputs": [
    {
     "data": {
      "image/png": "[encoded data removed]",
      "text/plain": [
       "<Figure size 720x432 with 1 Axes>"
      ]
     },
     "metadata": {},
     "output_type": "display_data"
    }
   ],
   "source": [
    "plt.rcParams[\"figure.figsize\"]=[10,6]\n",
    "sns.set_style(\"darkgrid\")\n",
    "sns.barplot(x= \"Degree\", y = \"User\", data= df_CC_10, color = \"darkcyan\", )\n",
    "plt.title(\"Top 10 nodes for Closeness Centrality\")\n",
    "plt.xlabel(\"Centrality Score\")\n",
    "plt.ylabel(\"Nodes\")\n",
    "plt.show()"
   ]
  },
  {
   "cell_type": "markdown",
   "metadata": {},
   "source": [
    "### Harmonic centrality\n",
    "Harmonic mean of the geodesic (shorted paths) \n",
    "distances from a given node to all others. (come la closeness, solo che clacoli la media armonica)"
   ]
  },
  {
   "cell_type": "code",
   "execution_count": 266,
   "metadata": {},
   "outputs": [],
   "source": [
    "harmonic = nx.harmonic_centrality(g)"
   ]
  },
  {
   "cell_type": "code",
   "execution_count": 267,
   "metadata": {},
   "outputs": [
    {
     "data": {
      "text/plain": [
       "[('JoeBiden', 7632.944047617572),\n",
       " ('realDonaldTrump', 7033.257142857054),\n",
       " ('blesamerica', 6632.5551587294485),\n",
       " ('irvinepmaicon', 6484.415873015448),\n",
       " ('POTUS', 6408.030952381937)]"
      ]
     },
     "execution_count": 267,
     "metadata": {},
     "output_type": "execute_result"
    }
   ],
   "source": [
    "ranks = [(k, v) for k, v in sorted(harmonic.items(), key=lambda item: -item[1])]\n",
    "ranks[0:5]"
   ]
  },
  {
   "cell_type": "code",
   "execution_count": 268,
   "metadata": {},
   "outputs": [
    {
     "data": {
      "image/png": "[encoded data removed]",
      "text/plain": [
       "<Figure size 720x432 with 1 Axes>"
      ]
     },
     "metadata": {},
     "output_type": "display_data"
    }
   ],
   "source": [
    "df_HCentrality = pd.DataFrame(ranks, columns=['User', 'Degree'])\n",
    "df_HC_10 = df_HCentrality.iloc[:11]\n",
    "plt.rcParams[\"figure.figsize\"]=[10,6]\n",
    "sns.set_style(\"darkgrid\")\n",
    "sns.barplot(x= \"Degree\", y = \"User\", data= df_HC_10, color = \"darkcyan\", )\n",
    "plt.title(\"Top 10 nodes for Harmonic Centrality\")\n",
    "plt.xlabel(\"Centrality Score\")\n",
    "plt.ylabel(\"Nodes\")\n",
    "plt.show()"
   ]
  },
  {
   "cell_type": "markdown",
   "metadata": {},
   "source": [
    "### Betweenness Centrality\n",
    "Number of shortest paths that go through a node.\n",
    "\n",
    "Assumption: important vertices are bridges over which information flows\n",
    "\n",
    "Practically: if information spreads via shortest paths, important nodes are found on many shortest paths"
   ]
  },
  {
   "cell_type": "code",
   "execution_count": 261,
   "metadata": {},
   "outputs": [],
   "source": [
    "betweenness = nx.betweenness_centrality(g_cc) # compute the betweenness centrality of all nodes "
   ]
  },
  {
   "cell_type": "code",
   "execution_count": 264,
   "metadata": {},
   "outputs": [
    {
     "data": {
      "text/plain": [
       "[('JoeBiden', 0.2638096311010423),\n",
       " ('realDonaldTrump', 0.1663914032893342),\n",
       " ('POTUS', 0.0838527309934754),\n",
       " ('blesamerica', 0.033280916725252116),\n",
       " ('thehill', 0.02666457059788305)]"
      ]
     },
     "execution_count": 264,
     "metadata": {},
     "output_type": "execute_result"
    }
   ],
   "source": [
    "ranks = [(k, v) for k, v in sorted(betweenness.items(), key=lambda item: -item[1])]\n",
    "ranks[0:5]"
   ]
  },
  {
   "cell_type": "code",
   "execution_count": 265,
   "metadata": {},
   "outputs": [
    {
     "data": {
      "image/png": "[encoded data removed]",
      "text/plain": [
       "<Figure size 720x432 with 1 Axes>"
      ]
     },
     "metadata": {},
     "output_type": "display_data"
    }
   ],
   "source": [
    "df_BetCentrality = pd.DataFrame(ranks, columns=['User', 'Degree'])\n",
    "df_BC_10 = df_BetCentrality.iloc[:11]\n",
    "plt.rcParams[\"figure.figsize\"]=[10,6]\n",
    "sns.set_style(\"darkgrid\")\n",
    "sns.barplot(x= \"Degree\", y = \"User\", data= df_BC_10, color = \"darkcyan\", )\n",
    "plt.title(\"Top 10 nodes for Betweenness Centrality\")\n",
    "plt.xlabel(\"Centrality Score\")\n",
    "plt.ylabel(\"Nodes\")\n",
    "plt.show()"
   ]
  },
  {
   "cell_type": "markdown",
   "metadata": {},
   "source": [
    "## Connectivity based centralities\n",
    "la centralità di un nodo viene calcolata in base ai nodi a cui questo è connesso. È una definizione ricorsiva: i nodi importanti sono quelli collegati ad altri nodi importanti."
   ]
  },
  {
   "cell_type": "markdown",
   "metadata": {},
   "source": [
    "### PageRank"
   ]
  },
  {
   "cell_type": "code",
   "execution_count": 271,
   "metadata": {},
   "outputs": [],
   "source": [
    "pagerank = nx.pagerank(g_cc)"
   ]
  },
  {
   "cell_type": "code",
   "execution_count": 283,
   "metadata": {},
   "outputs": [
    {
     "data": {
      "text/plain": [
       "[('JoeBiden', 0.014892661333040803),\n",
       " ('realDonaldTrump', 0.012084398659346475),\n",
       " ('POTUS', 0.005720008869834269),\n",
       " ('thehill', 0.002918400595955434),\n",
       " ('mark3ds', 0.0022421339712293885)]"
      ]
     },
     "execution_count": 283,
     "metadata": {},
     "output_type": "execute_result"
    }
   ],
   "source": [
    "ranks = [(k, v) for k, v in sorted(pagerank.items(), key=lambda item: -item[1])]\n",
    "ranks[0:5]"
   ]
  },
  {
   "cell_type": "code",
   "execution_count": 284,
   "metadata": {},
   "outputs": [
    {
     "data": {
      "image/png": "[encoded data removed]",
      "text/plain": [
       "<Figure size 720x432 with 1 Axes>"
      ]
     },
     "metadata": {},
     "output_type": "display_data"
    }
   ],
   "source": [
    "df_PRCentrality = pd.DataFrame(ranks, columns=['User', 'Degree'])\n",
    "df_PRC_10 = df_PRCentrality.iloc[:11]\n",
    "plt.rcParams[\"figure.figsize\"]=[10,6]\n",
    "sns.set_style(\"darkgrid\")\n",
    "sns.barplot(x= \"Degree\", y = \"User\", data= df_PRC_10, color = \"darkcyan\", )\n",
    "plt.title(\"Top 10 nodes for PageRank Centrality\")\n",
    "plt.xlabel(\"Centrality Score\")\n",
    "plt.ylabel(\"Nodes\")\n",
    "plt.show()"
   ]
  },
  {
   "cell_type": "markdown",
   "metadata": {},
   "source": [
    "### Eigenvector"
   ]
  },
  {
   "cell_type": "code",
   "execution_count": 280,
   "metadata": {},
   "outputs": [],
   "source": [
    "eigen = nx.eigenvector_centrality(g_cc, max_iter = 200)"
   ]
  },
  {
   "cell_type": "code",
   "execution_count": 285,
   "metadata": {},
   "outputs": [
    {
     "data": {
      "text/plain": [
       "[('JoeBiden', 0.5707899681559704),\n",
       " ('realDonaldTrump', 0.330205078969052),\n",
       " ('POTUS', 0.09865521384243954),\n",
       " ('KamalaHarris', 0.06882416142249978),\n",
       " ('BernieSanders', 0.06574304485836048)]"
      ]
     },
     "execution_count": 285,
     "metadata": {},
     "output_type": "execute_result"
    }
   ],
   "source": [
    "ranks = [(k, v) for k, v in sorted(eigen.items(), key=lambda item: -item[1])]\n",
    "ranks[0:5]"
   ]
  },
  {
   "cell_type": "code",
   "execution_count": 287,
   "metadata": {},
   "outputs": [
    {
     "data": {
      "image/png": "[encoded data removed]",
      "text/plain": [
       "<Figure size 720x432 with 1 Axes>"
      ]
     },
     "metadata": {},
     "output_type": "display_data"
    }
   ],
   "source": [
    "df_ECentrality = pd.DataFrame(ranks, columns=['User', 'Degree'])\n",
    "df_EC_10 = df_ECentrality.iloc[:11]\n",
    "plt.rcParams[\"figure.figsize\"]=[10,6]\n",
    "sns.set_style(\"darkgrid\")\n",
    "sns.barplot(x= \"Degree\", y = \"User\", data= df_EC_10, color = \"darkcyan\", )\n",
    "plt.title(\"Top 10 nodes for Eigenvector Centrality\")\n",
    "plt.xlabel(\"Centrality Score\")\n",
    "plt.ylabel(\"Nodes\")\n",
    "plt.show()"
   ]
  },
  {
   "cell_type": "markdown",
   "metadata": {},
   "source": [
    "## Assortative Mixing"
   ]
  },
  {
   "cell_type": "markdown",
   "metadata": {},
   "source": [
    "### Newman's Assortativity\n",
    "Quantify homophily while scalar node properties are involved (e.g., degree)\n",
    "\n",
    "- Degree assortative:\n",
    "Nodes tends to connect homogeneously w.r.t. their degree (e.g., hubs with hubs)\n",
    "\n",
    "- Degree disassortative:\n",
    "Nodes tends to connect in a star-like topology\n",
    "\n",
    "Per valori compresi tra 0 e 1 si parla di assortative mixing, per valori tra 0 e -1 si parla di disassortative mixing. Se il valore è 0 non c’è correlazione, se è 1 o -1 si parla di assortative/disassortative mixing perfetto."
   ]
  },
  {
   "cell_type": "code",
   "execution_count": 288,
   "metadata": {},
   "outputs": [
    {
     "data": {
      "text/plain": [
       "-0.06851335430205654"
      ]
     },
     "execution_count": 288,
     "metadata": {},
     "output_type": "execute_result"
    }
   ],
   "source": [
    "nx.degree_assortativity_coefficient(g) #dissortative (si connettono nodi diversi tra loro)"
   ]
  },
  {
   "cell_type": "markdown",
   "metadata": {},
   "source": [
    "### KNNk\n"
   ]
  },
  {
   "cell_type": "code",
   "execution_count": 289,
   "metadata": {},
   "outputs": [],
   "source": [
    "knn = nx.k_nearest_neighbors(g) #calculate the average nearest neighbor degree of nodes with degree k.\n",
    "knn = dict(sorted(knn.items()))"
   ]
  },
  {
   "cell_type": "code",
   "execution_count": 290,
   "metadata": {},
   "outputs": [
    {
     "data": {
      "image/png": "[encoded data removed]",
      "text/plain": [
       "<Figure size 720x432 with 1 Axes>"
      ]
     },
     "metadata": {},
     "output_type": "display_data"
    }
   ],
   "source": [
    "plt.plot(list(knn.keys()), list(knn.values()), '.', ms=10, alpha=0.8)\n",
    "plt.loglog()\n",
    "plt.xlabel(\"k\", fontsize=20)\n",
    "plt.ylabel(\"k_nn(k)\",fontsize=18)\n",
    "plt.xticks(fontsize=15)\n",
    "plt.yticks(fontsize=15)\n",
    "plt.show() \n",
    "\n",
    "#disassortative"
   ]
  }
 ],
 "metadata": {
  "kernelspec": {
   "display_name": "Python 3",
   "language": "python",
   "name": "python3"
  },
  "language_info": {
   "codemirror_mode": {
    "name": "ipython",
    "version": 3
   },
   "file_extension": ".py",
   "mimetype": "text/x-python",
   "name": "python",
   "nbconvert_exporter": "python",
   "pygments_lexer": "ipython3",
   "version": "3.8.5"
  }
 },
 "nbformat": 4,
 "nbformat_minor": 4
}
